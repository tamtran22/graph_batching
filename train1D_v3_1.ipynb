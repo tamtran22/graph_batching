{
 "cells": [
  {
   "attachments": {},
   "cell_type": "markdown",
   "metadata": {},
   "source": [
    "Import dataset"
   ]
  },
  {
   "cell_type": "code",
   "execution_count": 1,
   "metadata": {},
   "outputs": [],
   "source": [
    "import numpy as np\n",
    "import torch\n",
    "from data.dataset import OneDDatasetLoader, DatasetLoader\n",
    "from typing import List\n",
    "from preprocessing.batching import merge_graphs\n",
    "\n",
    "def train_eval_split(dataset : DatasetLoader, train_id : List, eval_id : List):\n",
    "    # Get batching id\n",
    "    if dataset._sub_dir == '/batched/':\n",
    "        batching_id = dataset.batching_id.numpy()\n",
    "        train_id = list(np.where(np.isin(batching_id, train_id) == True)[0])\n",
    "        eval_id = list(np.where(np.isin(batching_id, eval_id) == True)[0])\n",
    "    # Train dataset\n",
    "    train_dataset = [dataset[i] for i in train_id]\n",
    "    # Test dataset\n",
    "    eval_dataset = [dataset[i] for i in eval_id]\n",
    "    return train_dataset, eval_dataset"
   ]
  },
  {
   "cell_type": "code",
   "execution_count": 2,
   "metadata": {},
   "outputs": [
    {
     "name": "stdout",
     "output_type": "stream",
     "text": [
      "Dataset loaded.\n",
      "Dataset batching finished.\n",
      "Train/eval spliting finished.\n"
     ]
    }
   ],
   "source": [
    "dataset = OneDDatasetLoader(\n",
    "    root_dir='/data1/tam/downloaded_datasets_nodeattr_all',\n",
    "    sub_dir='/calculated/'\n",
    ")\n",
    "print('Dataset loaded.')\n",
    "\n",
    "batched_dataset = dataset.batching(batch_size=None, batch_n_times=10, recursive=True,\n",
    "                                    sub_dir='/batched/')\n",
    "print('Dataset batching finished.')\n",
    "\n",
    "batched_dataset = OneDDatasetLoader(\n",
    "    root_dir='/data1/tam/downloaded_datasets_nodeattr_all',\n",
    "    sub_dir='/batched/'\n",
    ")\n",
    "\n",
    "train_dataset, eval_dataset = train_eval_split(\n",
    "    dataset=batched_dataset,\n",
    "    train_id=list(range(0,10)),\n",
    "    eval_id=list(range(20,30))\n",
    ")\n",
    "print('Train/eval spliting finished.')"
   ]
  },
  {
   "cell_type": "code",
   "execution_count": null,
   "metadata": {},
   "outputs": [],
   "source": [
    "train_dataset"
   ]
  },
  {
   "attachments": {},
   "cell_type": "markdown",
   "metadata": {},
   "source": [
    "Train"
   ]
  },
  {
   "cell_type": "code",
   "execution_count": 3,
   "metadata": {},
   "outputs": [],
   "source": [
    "import os\n",
    "import torch\n",
    "from networks.network_parc import PARC\n",
    "os.environ[\"CUDA_VISIBLE_DEVICES\"]=\"1\"\n",
    "from networks.network_recurrent import objectview\n",
    "CUDA_LAUNCH_BLOCKING=1\n",
    "torch.cuda.empty_cache()\n",
    "\n",
    "# Model params\n",
    "args = objectview({\n",
    "    'n_fields' : 2,\n",
    "    'n_timesteps' : 1,\n",
    "    'n_hiddenfields' : 128,\n",
    "    'n_meshfields' : dataset[0].node_attr.size(1),\n",
    "    'timesteps' : 0.02,\n",
    "    'device' : torch.device(\"cuda:0\" if torch.cuda.is_available() else \"cpu\"),\n",
    "    'lr' : 5e-7,\n",
    "    'weight_decay' : 5e-4,\n",
    "    'epoch' : 100,\n",
    "    'train_lambda' : 1.0\n",
    "})\n",
    "\n",
    "# Model initializing\n",
    "model = PARC(\n",
    "    n_fields=args.n_fields,\n",
    "    n_timesteps=args.n_timesteps,\n",
    "    n_hiddenfields=args.n_hiddenfields,\n",
    "    n_meshfields=args.n_meshfields\n",
    ")\n",
    "model = model.to(args.device)\n",
    "optimizer = torch.optim.Adam(model.parameters(), lr=args.lr, weight_decay=args.weight_decay)\n",
    "criterion = torch.nn.MSELoss()\n",
    "# criterion = WeightedMSELoss()"
   ]
  },
  {
   "cell_type": "code",
   "execution_count": 4,
   "metadata": {
    "scrolled": true
   },
   "outputs": [
    {
     "name": "stdout",
     "output_type": "stream",
     "text": [
      "Epoch 0: train loss = 0.057437800266779956; eval loss = 0.01923308410216123\n",
      "Epoch 1: train loss = 0.009751251524139661; eval loss = 0.005069727630470879\n",
      "Epoch 2: train loss = 0.009242494446807541; eval loss = 0.012597846295684577\n",
      "Epoch 3: train loss = 0.010426449577789754; eval loss = 0.011231537526473403\n",
      "Epoch 4: train loss = 0.011211320364382119; eval loss = 0.010530366785824299\n",
      "Epoch 5: train loss = 0.009430922287283466; eval loss = 0.00801746551762335\n",
      "Epoch 6: train loss = 0.00677230486064218; eval loss = 0.005151227887836285\n",
      "Epoch 7: train loss = 0.004305082908831537; eval loss = 0.0029230510248453357\n",
      "Epoch 8: train loss = 0.003011897495598532; eval loss = 0.002389879778638715\n",
      "Epoch 9: train loss = 0.003333575808937894; eval loss = 0.002929287965234835\n",
      "Epoch 10: train loss = 0.003579571829759516; eval loss = 0.002504099225043319\n",
      "Epoch 11: train loss = 0.0031212857187347255; eval loss = 0.0021597822735202497\n",
      "Epoch 12: train loss = 0.0029168151566409508; eval loss = 0.0023559178502182477\n",
      "Epoch 13: train loss = 0.0030760302470298484; eval loss = 0.0028172814278514123\n",
      "Epoch 14: train loss = 0.003091201376519166; eval loss = 0.00233232401747955\n",
      "Epoch 15: train loss = 0.0028196985907561613; eval loss = 0.002097331519908039\n",
      "Epoch 16: train loss = 0.0028626368818368063; eval loss = 0.002026251120842062\n",
      "Epoch 17: train loss = 0.002717403525530244; eval loss = 0.00210330042114947\n",
      "Epoch 18: train loss = 0.0026856872084317727; eval loss = 0.0021376650609454375\n",
      "Epoch 19: train loss = 0.00266281459662423; eval loss = 0.002233736920024967\n",
      "Epoch 20: train loss = 0.002837880671577295; eval loss = 0.0023972759496246\n",
      "Epoch 21: train loss = 0.0027810773630335462; eval loss = 0.0023267427409882657\n",
      "Epoch 22: train loss = 0.0027118545792473013; eval loss = 0.002191838751459727\n",
      "Epoch 23: train loss = 0.0026153738287393933; eval loss = 0.001973043435427826\n",
      "Epoch 24: train loss = 0.002624503248043766; eval loss = 0.001976014181127539\n",
      "Epoch 25: train loss = 0.0025054366953190764; eval loss = 0.002275723675156769\n",
      "Epoch 26: train loss = 0.002660544323080103; eval loss = 0.0023191678930743363\n",
      "Epoch 27: train loss = 0.002599146294669481; eval loss = 0.0020749529555178013\n",
      "Epoch 28: train loss = 0.00264511626555759; eval loss = 0.0020391130452480865\n",
      "Epoch 29: train loss = 0.0024913633435789963; eval loss = 0.002203642154490808\n",
      "Epoch 30: train loss = 0.002554760005950811; eval loss = 0.0022108008213035644\n",
      "Epoch 31: train loss = 0.00252444165340421; eval loss = 0.002046447453831206\n",
      "Epoch 32: train loss = 0.002583312707429286; eval loss = 0.0020711821778968444\n",
      "Epoch 33: train loss = 0.002554186838242458; eval loss = 0.002268145928319427\n",
      "Epoch 34: train loss = 0.0025544615945545957; eval loss = 0.0021578364013839745\n",
      "Epoch 35: train loss = 0.0025250084097569927; eval loss = 0.001968135956012702\n",
      "Epoch 36: train loss = 0.0025371267752780113; eval loss = 0.00218651193761616\n",
      "Epoch 37: train loss = 0.0025319247564766557; eval loss = 0.002127213742569438\n",
      "Epoch 38: train loss = 0.0025945516357023736; eval loss = 0.002072676001189393\n",
      "Epoch 39: train loss = 0.0024958792515826643; eval loss = 0.0021752548274525906\n",
      "Epoch 40: train loss = 0.0025565440331411084; eval loss = 0.0019876761959312715\n",
      "Epoch 41: train loss = 0.002549741192488; eval loss = 0.0022079258426674644\n",
      "Epoch 42: train loss = 0.002556021273339866; eval loss = 0.0022212198492343304\n",
      "Epoch 43: train loss = 0.0025725233569392; eval loss = 0.002001963349539437\n",
      "Epoch 44: train loss = 0.0025336054748186145; eval loss = 0.0020354659623626503\n",
      "Epoch 45: train loss = 0.0025649614615031167; eval loss = 0.0023678334638680097\n",
      "Epoch 46: train loss = 0.0025571715439946276; eval loss = 0.001965855262824334\n",
      "Epoch 47: train loss = 0.0026054563140314713; eval loss = 0.0019517980880846154\n",
      "Epoch 48: train loss = 0.0024914140799228335; eval loss = 0.0023436253256659254\n",
      "Epoch 49: train loss = 0.0026232440471358133; eval loss = 0.00207899361877935\n",
      "Epoch 50: train loss = 0.002560764876034227; eval loss = 0.0020217511930241015\n",
      "Epoch 51: train loss = 0.002574274093713029; eval loss = 0.0020599453114846255\n",
      "Epoch 52: train loss = 0.0025967292876521242; eval loss = 0.0023018961332854815\n",
      "Epoch 53: train loss = 0.0025381932672826225; eval loss = 0.002092018717012252\n",
      "Epoch 54: train loss = 0.0026549276160221778; eval loss = 0.00196478440604551\n",
      "Epoch 55: train loss = 0.002545284405205166; eval loss = 0.002302571127002011\n",
      "Epoch 56: train loss = 0.002646542311704252; eval loss = 0.0021817199417273514\n",
      "Epoch 57: train loss = 0.0026268008229453697; eval loss = 0.0020697460236988262\n",
      "Epoch 58: train loss = 0.0025528058279815015; eval loss = 0.0021812089959348667\n",
      "Epoch 59: train loss = 0.002693470870217425; eval loss = 0.0023137120429601054\n",
      "Epoch 60: train loss = 0.002607517473370535; eval loss = 0.0020129796304536283\n",
      "Epoch 61: train loss = 0.0026902803865232272; eval loss = 0.002185933900400414\n",
      "Epoch 62: train loss = 0.0026126866183039965; eval loss = 0.0025342729054682422\n",
      "Epoch 63: train loss = 0.0026531734746458825; eval loss = 0.002158705948968418\n",
      "Epoch 64: train loss = 0.0027801625294523544; eval loss = 0.002057736912793189\n",
      "Epoch 65: train loss = 0.0026236397488901275; eval loss = 0.0022821196163567946\n",
      "Epoch 66: train loss = 0.0028367878124117853; eval loss = 0.0024985714034482954\n",
      "Epoch 67: train loss = 0.0027287028831960926; eval loss = 0.0022946500363832454\n",
      "Epoch 68: train loss = 0.002740380206232658; eval loss = 0.0024393739957304207\n",
      "Epoch 69: train loss = 0.0028638306602078957; eval loss = 0.002730771213537082\n",
      "Epoch 70: train loss = 0.0027899644079298013; eval loss = 0.002073092229766189\n",
      "Epoch 71: train loss = 0.0030710416882357094; eval loss = 0.0022457891101657877\n",
      "Epoch 72: train loss = 0.0027777407939720434; eval loss = 0.0029165989853208885\n",
      "Epoch 73: train loss = 0.0029577493549732027; eval loss = 0.0026387893575883937\n",
      "Epoch 74: train loss = 0.003033247421044507; eval loss = 0.0022707282970804953\n",
      "Epoch 75: train loss = 0.002936628795141587; eval loss = 0.0021500401718367356\n",
      "Epoch 76: train loss = 0.003012378591156448; eval loss = 0.0033276512405427637\n",
      "Epoch 77: train loss = 0.0028500325061031617; eval loss = 0.0020614695949916495\n",
      "Epoch 78: train loss = 0.0032751729917072227; eval loss = 0.002232106855881284\n",
      "Epoch 79: train loss = 0.0026836080900829984; eval loss = 0.002955058754014317\n",
      "Epoch 80: train loss = 0.003227919842465781; eval loss = 0.002656320343958214\n",
      "Epoch 81: train loss = 0.002917860344896326; eval loss = 0.002351587797747925\n",
      "Epoch 82: train loss = 0.0031618326339230406; eval loss = 0.002162054881482618\n",
      "Epoch 83: train loss = 0.002913075964534073; eval loss = 0.0035325515552540308\n",
      "Epoch 84: train loss = 0.0030201313653742544; eval loss = 0.0021988610266998874\n",
      "Epoch 85: train loss = 0.0032369981710508; eval loss = 0.002572580484120408\n",
      "Epoch 86: train loss = 0.0029190960367850493; eval loss = 0.0023226915778650436\n",
      "Epoch 87: train loss = 0.003260636958584655; eval loss = 0.003408163760759635\n",
      "Epoch 88: train loss = 0.0029447240177250932; eval loss = 0.0022857493584160695\n",
      "Epoch 89: train loss = 0.0034242942467972172; eval loss = 0.0022404617141728524\n",
      "Epoch 90: train loss = 0.0027195992041379215; eval loss = 0.0030365358885319437\n",
      "Epoch 91: train loss = 0.0034047730718157255; eval loss = 0.0027278977652895266\n",
      "Epoch 92: train loss = 0.0028282449375547003; eval loss = 0.0023349368051276543\n",
      "Epoch 93: train loss = 0.0032729442382697016; eval loss = 0.002082162436636281\n",
      "Epoch 94: train loss = 0.002898733612819342; eval loss = 0.0033743848218000493\n",
      "Epoch 95: train loss = 0.0031879489565471886; eval loss = 0.0025257172041165178\n",
      "Epoch 96: train loss = 0.0031242287815985035; eval loss = 0.0028355267173901665\n",
      "Epoch 97: train loss = 0.0032153396344074283; eval loss = 0.002072361967075267\n",
      "Epoch 98: train loss = 0.003070738481983426; eval loss = 0.0035990336797840426\n",
      "Epoch 99: train loss = 0.0032798320171423256; eval loss = 0.0021409503027098255\n"
     ]
    }
   ],
   "source": [
    "# Train function v2\n",
    "def train(model, data, args):\n",
    "    n_time = data.pressure.size(1)\n",
    "    edge_index = data.edge_index.to(args.device)\n",
    "    mesh_features = data.node_attr.to(args.device)\n",
    "    F_initial = torch.cat([data.pressure[:,0].unsqueeze(1), data.velocity[:,0].unsqueeze(1)], dim=-1)\\\n",
    "                .to(args.device) # concat pressure and velocity\n",
    "    model.n_timesteps = n_time - 1\n",
    "\n",
    "    Fs, F_dots = model(F_initial, mesh_features, edge_index)\n",
    "\n",
    "    Fs_hat = torch.cat([data.pressure.unsqueeze(-1), data.velocity.unsqueeze(-1)], dim=-1)\\\n",
    "                .to(args.device) # concat pressure and velocity\n",
    "    \n",
    "    # F_dots_hat = cal_derivative(Fs_hat, dim=1, delta_t=args.timesteps)\n",
    "    F_dots_hat = torch.cat([data.pressure_dot.unsqueeze(-1), data.velocity_dot.unsqueeze(-1)], dim=-1)\\\n",
    "                .to(args.device) # concat pressure and velocity\n",
    "\n",
    "    Fs_hat = Fs_hat[:,1:,:]\n",
    "    F_dots_hat = F_dots_hat[:,1:,:]\n",
    "\n",
    "    # print(Fs_hat, Fs)\n",
    "    loss = (1.-args.train_lambda)*criterion(Fs_hat, Fs) + \\\n",
    "            args.train_lambda*criterion(F_dots_hat, F_dots)\n",
    "\n",
    "    # return loss\n",
    "    loss.backward()\n",
    "    optimizer.step()\n",
    "    return loss.item()\n",
    "\n",
    "# Eval function\n",
    "def eval(model, data, args):\n",
    "    n_time = data.pressure.size(1)\n",
    "    edge_index = data.edge_index.to(args.device)\n",
    "    mesh_features = data.node_attr.to(args.device)\n",
    "    F_initial = torch.cat([data.pressure[:,0].unsqueeze(1), data.velocity[:,0].unsqueeze(1)], dim=-1)\\\n",
    "                .to(args.device) # concat pressure and velocity\n",
    "    model.n_timesteps = n_time - 1\n",
    "\n",
    "    with torch.no_grad():\n",
    "        Fs, F_dots = model(F_initial, mesh_features, edge_index)\n",
    "\n",
    "        Fs_hat = torch.cat([data.pressure.unsqueeze(-1), data.velocity.unsqueeze(-1)], dim=-1)\\\n",
    "                    .to(args.device) # concat pressure and velocity\n",
    "        \n",
    "        # F_dots_hat = cal_derivative(Fs_hat, dim=1, delta_t=args.timesteps)\n",
    "        F_dots_hat = torch.cat([data.pressure_dot.unsqueeze(-1), data.velocity_dot.unsqueeze(-1)], dim=-1)\\\n",
    "                .to(args.device)\n",
    "\n",
    "        Fs_hat = Fs_hat[:,1:,:]\n",
    "        F_dots_hat = F_dots_hat[:,1:,:]\n",
    "\n",
    "        loss = (1.-args.train_lambda)*criterion(Fs_hat, Fs) + \\\n",
    "            args.train_lambda*criterion(F_dots_hat, F_dots)\n",
    "\n",
    "    # return loss\n",
    "    return loss.item()\n",
    "\n",
    "# Training\n",
    "total_train_loss = []\n",
    "total_eval_loss = []\n",
    "# batch = enumerate(list(range(0,10)))\n",
    "for epoch in range(args.epoch):\n",
    "    torch.cuda.empty_cache()\n",
    "    train_loss = 0\n",
    "    for data in train_dataset:\n",
    "        train_loss += train(model=model, data=data, args=args)\n",
    "    # train_loss.backward()\n",
    "    # optimizer.step()\n",
    "    # train_loss = train_loss.item()\n",
    "    train_loss /= len(train_dataset)\n",
    "    total_train_loss.append(train_loss)\n",
    "\n",
    "    eval_loss = 0\n",
    "    for data in eval_dataset:\n",
    "        eval_loss += eval(model=model, data=data, args=args)\n",
    "    # eval_loss = eval_loss.item()\n",
    "    eval_loss /= len(eval_dataset)\n",
    "    total_eval_loss.append(eval_loss)\n",
    "    \n",
    "    if (epoch > 1):\n",
    "        args.train_lambda = 0.5\n",
    "    print(f'Epoch {epoch}: train loss = {train_loss}; eval loss = {eval_loss}')\n",
    "    if (epoch+1) % 25 == 0:\n",
    "        torch.save(model.state_dict(), f'models/parc_v2_epoch{epoch+1}.pth')\n",
    "    \n",
    "    "
   ]
  },
  {
   "cell_type": "code",
   "execution_count": 5,
   "metadata": {},
   "outputs": [],
   "source": [
    "# Save model\n",
    "torch.save(model.state_dict(), 'models/parc_v2_final.pth')"
   ]
  },
  {
   "attachments": {},
   "cell_type": "markdown",
   "metadata": {},
   "source": [
    "Reconstruct CFD output"
   ]
  },
  {
   "cell_type": "code",
   "execution_count": null,
   "metadata": {},
   "outputs": [],
   "source": [
    "# reconstruct CFD\n",
    "def print_prediction(model, data):\n",
    "    pass"
   ]
  },
  {
   "cell_type": "code",
   "execution_count": 12,
   "metadata": {},
   "outputs": [
    {
     "data": {
      "text/plain": [
       "<All keys matched successfully>"
      ]
     },
     "execution_count": 12,
     "metadata": {},
     "output_type": "execute_result"
    }
   ],
   "source": [
    "# Model initializing\n",
    "model = PARC(\n",
    "    n_fields=args.n_fields,\n",
    "    n_timesteps=args.n_timesteps,\n",
    "    n_hiddenfields=args.n_hiddenfields,\n",
    "    n_meshfields=args.n_meshfields\n",
    ")\n",
    "model = model.to(args.device)\n",
    "model.load_state_dict(torch.load('models/parc_v2_epoch25.pth'))"
   ]
  },
  {
   "cell_type": "code",
   "execution_count": 60,
   "metadata": {},
   "outputs": [
    {
     "name": "stdout",
     "output_type": "stream",
     "text": [
      "tensor(14.1667)\n"
     ]
    },
    {
     "data": {
      "image/png": "[encoded data removed]",
      "text/plain": [
       "<Figure size 640x480 with 1 Axes>"
      ]
     },
     "metadata": {},
     "output_type": "display_data"
    },
    {
     "data": {
      "text/plain": [
       "0.03884965553879738"
      ]
     },
     "execution_count": 60,
     "metadata": {},
     "output_type": "execute_result"
    }
   ],
   "source": [
    "# Plot prediction/ground truth\n",
    "import matplotlib.pyplot as plt\n",
    "\n",
    "def plot_comparison(model, data):\n",
    "    n_time = data.pressure.size(1)\n",
    "    edge_index = data.edge_index.to(args.device)\n",
    "    mesh_features = data.node_attr.to(args.device)\n",
    "    F_initial = torch.cat([data.pressure[:,0].unsqueeze(1), data.velocity[:,0].unsqueeze(1)], dim=-1)\\\n",
    "                .to(args.device) # concat pressure and velocity\n",
    "    model.n_timesteps = n_time - 1\n",
    "\n",
    "    with torch.no_grad():\n",
    "        Fs, F_dots = model(F_initial, mesh_features, edge_index)\n",
    "\n",
    "        Fs_hat = torch.cat([data.pressure.unsqueeze(-1), data.velocity.unsqueeze(-1)], dim=-1)\\\n",
    "                    .to(args.device) # concat pressure and velocity\n",
    "        \n",
    "        # F_dots_hat = cal_derivative(Fs_hat, dim=1, delta_t=args.timesteps)\n",
    "        F_dots_hat = torch.cat([data.pressure_dot.unsqueeze(-1), data.velocity_dot.unsqueeze(-1)], dim=-1)\\\n",
    "                .to(args.device)\n",
    "\n",
    "        Fs_hat = Fs_hat[:,1:,:]\n",
    "        F_dots_hat = F_dots_hat[:,1:,:]\n",
    "\n",
    "        loss = (1.-args.train_lambda)*criterion(Fs_hat, Fs) + \\\n",
    "            args.train_lambda*criterion(F_dots_hat, F_dots)\n",
    "        \n",
    "        total_loss = loss.item()\n",
    "    # print(Fs.size(), Fs_hat.size())\n",
    "    \n",
    "    \n",
    "\n",
    "    \n",
    "    # plot\n",
    "    i_node = 55000\n",
    "    i_field = 1\n",
    "    print((data.node_attr[i_node,5] + 1)*25/2)\n",
    "    y_pred = Fs.cpu().numpy()[i_node,:,i_field]\n",
    "    y_true = Fs_hat.cpu().numpy()[i_node,:,i_field]\n",
    "    x = [i * 4.0 /200 for i in range(1,201)]\n",
    "    plt.plot(x, y_pred, c='red', label='PIGNN')\n",
    "    plt.plot(x, y_true, c='blue', linestyle='dashdot', label='ground_truth')\n",
    "    plt.ylim([-1,1])\n",
    "    plt.legend(loc='upper right')\n",
    "    plt.ylabel('Velocity', fontsize=20)\n",
    "    plt.xlabel('Time', fontsize=20)\n",
    "    plt.show()\n",
    "    \n",
    "    return total_loss\n",
    "    \n",
    "plot_comparison(model, dataset[5])"
   ]
  }
 ],
 "metadata": {
  "kernelspec": {
   "display_name": "torch",
   "language": "python",
   "name": "python3"
  },
  "language_info": {
   "codemirror_mode": {
    "name": "ipython",
    "version": 3
   },
   "file_extension": ".py",
   "mimetype": "text/x-python",
   "name": "python",
   "nbconvert_exporter": "python",
   "pygments_lexer": "ipython3",
   "version": "3.9.12"
  }
 },
 "nbformat": 4,
 "nbformat_minor": 2
}

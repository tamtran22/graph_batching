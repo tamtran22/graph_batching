{
 "cells": [
  {
   "attachments": {},
   "cell_type": "markdown",
   "metadata": {},
   "source": [
    "Import dataset"
   ]
  },
  {
   "cell_type": "code",
   "execution_count": 1,
   "metadata": {},
   "outputs": [],
   "source": [
    "import numpy as np\n",
    "import torch\n",
    "from data.dataset import OneDDatasetLoader, DatasetLoader\n",
    "from typing import List\n",
    "from preprocessing.batching import merge_graphs\n",
    "from torch_geometric.loader import DataLoader\n",
    "\n",
    "def train_eval_split(dataset : DatasetLoader, train_id : List, eval_id : List):\n",
    "    # Get batching id\n",
    "    if dataset._sub_dir == '/batched/':\n",
    "        batching_id = dataset.batching_id.numpy()\n",
    "        train_id = list(np.where(np.isin(batching_id, train_id) == True)[0])\n",
    "        eval_id = list(np.where(np.isin(batching_id, eval_id) == True)[0])\n",
    "    # Train dataset\n",
    "    train_dataset = [dataset[i] for i in train_id]\n",
    "    # Test dataset\n",
    "    eval_dataset = [dataset[i] for i in eval_id]\n",
    "    return train_dataset, eval_dataset"
   ]
  },
  {
   "cell_type": "code",
   "execution_count": 2,
   "metadata": {},
   "outputs": [
    {
     "name": "stdout",
     "output_type": "stream",
     "text": [
      "Dataset loaded.\n"
     ]
    },
    {
     "data": {
      "text/plain": [
       "18240"
      ]
     },
     "execution_count": 2,
     "metadata": {},
     "output_type": "execute_result"
    }
   ],
   "source": [
    "dataset = OneDDatasetLoader(\n",
    "    root_dir='/data1/tam/downloaded_datasets_nodeattr_v2',\n",
    "    sub_dir='/batched/'\n",
    ")\n",
    "print('Dataset loaded.')\n",
    "\n",
    "train_dataset, test_dataset = train_eval_split(dataset,\n",
    "    train_id=list(range(0,15)), eval_id=list(range(15,30)))\n",
    "dataset.len()"
   ]
  },
  {
   "cell_type": "code",
   "execution_count": 3,
   "metadata": {},
   "outputs": [],
   "source": [
    "train_loader = DataLoader(dataset, batch_size=30)\n",
    "test_loader = DataLoader(dataset, batch_size=30)"
   ]
  },
  {
   "attachments": {},
   "cell_type": "markdown",
   "metadata": {},
   "source": [
    "Train"
   ]
  },
  {
   "cell_type": "code",
   "execution_count": 4,
   "metadata": {},
   "outputs": [],
   "source": [
    "import os\n",
    "import torch\n",
    "from networks.network_parc_processor import PARC\n",
    "os.environ[\"CUDA_VISIBLE_DEVICES\"]=\"3\"\n",
    "from networks.network_recurrent import objectview\n",
    "from networks.loss import WeightedMSELoss\n",
    "CUDA_LAUNCH_BLOCKING=1\n",
    "torch.cuda.empty_cache()\n",
    "\n",
    "# Model params\n",
    "args = objectview({\n",
    "    'n_fields' : 2,\n",
    "    'n_timesteps' : 1,\n",
    "    'n_hiddenfields' : 64,\n",
    "    'n_meshfields' : dataset[0].node_attr.size(1),\n",
    "    'n_bcfields' : 1,\n",
    "    'timesteps' : 0.02,\n",
    "    'device' : torch.device(\"cuda:0\" if torch.cuda.is_available() else \"cpu\"),\n",
    "    'lr' : 5e-7,\n",
    "    'weight_decay' : 5e-4,\n",
    "    'epoch' : 100,\n",
    "    'train_lambda' : 1.0\n",
    "})\n",
    "\n",
    "# Model initializing\n",
    "model = PARC(\n",
    "    n_fields=args.n_fields,\n",
    "    n_timesteps=args.n_timesteps,\n",
    "    n_hiddenfields=args.n_hiddenfields,\n",
    "    n_meshfields=args.n_meshfields,\n",
    "    n_bcfields=args.n_bcfields\n",
    ")\n",
    "model = model.to(args.device)\n",
    "optimizer = torch.optim.Adam(model.parameters(), lr=args.lr, weight_decay=args.weight_decay)\n",
    "criterion = torch.nn.MSELoss()\n",
    "# criterion = WeightedMSELoss()"
   ]
  },
  {
   "cell_type": "code",
   "execution_count": 5,
   "metadata": {
    "scrolled": true
   },
   "outputs": [
    {
     "name": "stdout",
     "output_type": "stream",
     "text": [
      "Epoch 0: train loss = 0.3596009450082324; eval loss = 0.11995643366275258\n",
      "Epoch 1: train loss = 0.09061666943230912; eval loss = 0.08942154794931412\n",
      "Epoch 2: train loss = 0.08410749534194015; eval loss = 0.07567302137613297\n",
      "Epoch 3: train loss = 0.06979268339560613; eval loss = 0.06705358624458313\n",
      "Epoch 4: train loss = 0.06580562976581093; eval loss = 0.0635366496433945\n",
      "Epoch 5: train loss = 0.06206151517720795; eval loss = 0.061220500875558505\n",
      "Epoch 6: train loss = 0.06037996447105941; eval loss = 0.0590759739279747\n",
      "Epoch 7: train loss = 0.05823605310931606; eval loss = 0.05760651807251729\n",
      "Epoch 8: train loss = 0.056842480044762944; eval loss = 0.05616220061691772\n",
      "Epoch 9: train loss = 0.05565595052106992; eval loss = 0.05521867424249649\n",
      "Epoch 10: train loss = 0.05463180450207897; eval loss = 0.053986061413429286\n",
      "Epoch 11: train loss = 0.05339684619837882; eval loss = 0.05282301015808786\n",
      "Epoch 12: train loss = 0.05231171909499129; eval loss = 0.05182661488652229\n",
      "Epoch 13: train loss = 0.05138650302481102; eval loss = 0.05094567688157488\n",
      "Epoch 14: train loss = 0.05056607413203701; eval loss = 0.05018373579399562\n",
      "Epoch 15: train loss = 0.04986465433122296; eval loss = 0.04956391080601239\n",
      "Epoch 16: train loss = 0.04935624116517015; eval loss = 0.049179747651674245\n",
      "Epoch 17: train loss = 0.04901178901108276; eval loss = 0.04883503502749495\n",
      "Epoch 18: train loss = 0.048681147721301964; eval loss = 0.04855576711461732\n",
      "Epoch 19: train loss = 0.048466507541505915; eval loss = 0.04839259386062622\n",
      "Epoch 20: train loss = 0.04830554720185893; eval loss = 0.048234254085017664\n",
      "Epoch 21: train loss = 0.04813917176062731; eval loss = 0.048029638716558874\n",
      "Epoch 22: train loss = 0.047970120206867396; eval loss = 0.04793348574496217\n",
      "Epoch 23: train loss = 0.0478905692978419; eval loss = 0.04784909948878186\n",
      "Epoch 24: train loss = 0.04780817222413852; eval loss = 0.04776901751756668\n",
      "Epoch 25: train loss = 0.047692690050768614; eval loss = 0.047614145190700105\n"
     ]
    }
   ],
   "source": [
    "# Train function v2\n",
    "def train(model, data, args):\n",
    "    n_time = data.pressure.size(1)\n",
    "    edge_index = data.edge_index.to(args.device)\n",
    "    mesh_features = data.node_attr.to(args.device)\n",
    "    F_bc = data.flowrate_bc.to(args.device)\n",
    "    weight = data.node_weight.to(args.device)\n",
    "\n",
    "    F_initial = torch.cat([\n",
    "        data.pressure[:,0].unsqueeze(1), \n",
    "        data.flowrate[:,0].unsqueeze(1)\n",
    "    ], dim=-1).to(args.device) # concat pressure and flowrate\n",
    "\n",
    "    model.n_timesteps = n_time - 1\n",
    "\n",
    "    Fs, F_dots = model(F_initial, mesh_features, edge_index, F_bc)\n",
    "\n",
    "    Fs_hat = torch.cat([\n",
    "        data.pressure.unsqueeze(-1), \n",
    "        data.flowrate.unsqueeze(-1)\n",
    "    ], dim=-1).to(args.device) # concat pressure and flowrate\n",
    "    \n",
    "    F_dots_hat = torch.cat([\n",
    "        data.pressure_dot.unsqueeze(-1), \n",
    "        data.flowrate_dot.unsqueeze(-1)\n",
    "    ], dim=-1).to(args.device) # concat pressure and flowrate\n",
    "\n",
    "    Fs_hat = Fs_hat[:,1:,:]\n",
    "    F_dots_hat = F_dots_hat[:,1:,:]\n",
    "    \n",
    "    loss = (1.-args.train_lambda)*criterion(Fs_hat, Fs) + \\\n",
    "            args.train_lambda*criterion(F_dots_hat, F_dots)\n",
    "\n",
    "    loss.backward()\n",
    "    optimizer.step()\n",
    "    return loss.item()\n",
    "\n",
    "# Eval function\n",
    "def eval(model, data, args):\n",
    "    n_time = data.pressure.size(1)\n",
    "    edge_index = data.edge_index.to(args.device)\n",
    "    mesh_features = data.node_attr.to(args.device)\n",
    "    F_bc = data.flowrate_bc.to(args.device)\n",
    "    weight = data.node_weight.to(args.device)\n",
    "    F_initial = torch.cat([\n",
    "        data.pressure[:,0].unsqueeze(1), \n",
    "        data.flowrate[:,0].unsqueeze(1)\n",
    "    ], dim=-1).to(args.device) # concat pressure and flowrate\n",
    "    model.n_timesteps = n_time - 1\n",
    "\n",
    "    with torch.no_grad():\n",
    "        Fs, F_dots = model(F_initial, mesh_features, edge_index, F_bc)\n",
    "\n",
    "        Fs_hat = torch.cat([\n",
    "            data.pressure.unsqueeze(-1), \n",
    "            data.flowrate.unsqueeze(-1)\n",
    "        ], dim=-1).to(args.device) # concat pressure and flowrate\n",
    "        \n",
    "        F_dots_hat = torch.cat([\n",
    "            data.pressure_dot.unsqueeze(-1), \n",
    "            data.flowrate_dot.unsqueeze(-1)\n",
    "        ], dim=-1).to(args.device)\n",
    "\n",
    "        Fs_hat = Fs_hat[:,1:,:]\n",
    "        F_dots_hat = F_dots_hat[:,1:,:]\n",
    "\n",
    "        loss = (1.-args.train_lambda)*criterion(Fs_hat, Fs) + \\\n",
    "            args.train_lambda*criterion(F_dots_hat, F_dots)\n",
    "\n",
    "    # return loss\n",
    "    return loss.item()\n",
    "\n",
    "# Training\n",
    "total_train_loss = []\n",
    "total_eval_loss = []\n",
    "# batch = enumerate(list(range(0,10)))\n",
    "for epoch in range(args.epoch):\n",
    "    torch.cuda.empty_cache()\n",
    "    train_loss = 0\n",
    "    # for data in train_dataset:\n",
    "    for i in range(train_loader.__len__()):\n",
    "        data = next(iter(train_loader))\n",
    "        train_loss += train(model=model, data=data, args=args)\n",
    "    # train_loss.backward()\n",
    "    # optimizer.step()\n",
    "    # train_loss = train_loss.item()\n",
    "    train_loss /= train_loader.__len__() # len(train_dataset)\n",
    "    total_train_loss.append(train_loss)\n",
    "\n",
    "    eval_loss = 0\n",
    "    # for data in eval_dataset:\n",
    "    for i in range(test_loader.__len__()):\n",
    "        data = next(iter(test_loader))\n",
    "        eval_loss += eval(model=model, data=data, args=args)\n",
    "    # eval_loss = eval_loss.item()\n",
    "    eval_loss /= test_loader.__len__() #len(eval_dataset)\n",
    "    total_eval_loss.append(eval_loss)\n",
    "    \n",
    "    if (epoch > 25):\n",
    "        torch.save(model.state_dict(), f'models/parc_v2_epoch{epoch+1}.pth')\n",
    "        break\n",
    "        # args.train_lambda = 0.5\n",
    "    print(f'Epoch {epoch}: train loss = {train_loss}; eval loss = {eval_loss}')\n",
    "    if (epoch+1) % 25 == 0:\n",
    "        torch.save(model.state_dict(), f'models/parc_v2_epoch{epoch+1}.pth')"
   ]
  },
  {
   "cell_type": "code",
   "execution_count": 6,
   "metadata": {},
   "outputs": [
    {
     "data": {
      "image/png": "[encoded data removed]",
      "text/plain": [
       "<Figure size 640x480 with 1 Axes>"
      ]
     },
     "metadata": {},
     "output_type": "display_data"
    }
   ],
   "source": [
    "import matplotlib.pyplot as plt\n",
    "plt.plot(total_train_loss)\n",
    "plt.plot(total_eval_loss)\n",
    "# plt.ylim(0,.1)\n",
    "plt.show()"
   ]
  },
  {
   "cell_type": "code",
   "execution_count": 7,
   "metadata": {},
   "outputs": [],
   "source": [
    "# Save model\n",
    "torch.save(model.state_dict(), 'models/parc_v2_final.pth')"
   ]
  },
  {
   "attachments": {},
   "cell_type": "markdown",
   "metadata": {},
   "source": [
    "Reconstruct CFD output"
   ]
  },
  {
   "cell_type": "code",
   "execution_count": 8,
   "metadata": {},
   "outputs": [
    {
     "data": {
      "text/plain": [
       "<All keys matched successfully>"
      ]
     },
     "execution_count": 8,
     "metadata": {},
     "output_type": "execute_result"
    }
   ],
   "source": [
    "# Model initializing\n",
    "model = PARC(\n",
    "    n_fields=args.n_fields,\n",
    "    n_timesteps=args.n_timesteps,\n",
    "    n_hiddenfields=args.n_hiddenfields,\n",
    "    n_meshfields=args.n_meshfields,\n",
    "    n_bcfields=args.n_bcfields\n",
    ")\n",
    "model = model.to(args.device)\n",
    "model.load_state_dict(torch.load('models/parc_v2_epoch25.pth'))"
   ]
  },
  {
   "cell_type": "code",
   "execution_count": 15,
   "metadata": {},
   "outputs": [
    {
     "name": "stdout",
     "output_type": "stream",
     "text": [
      "Dataset loaded.\n"
     ]
    },
    {
     "data": {
      "image/png": "[encoded data removed]",
      "text/plain": [
       "<Figure size 640x480 with 1 Axes>"
      ]
     },
     "metadata": {},
     "output_type": "display_data"
    },
    {
     "data": {
      "text/plain": [
       "0.048711832612752914"
      ]
     },
     "execution_count": 15,
     "metadata": {},
     "output_type": "execute_result"
    }
   ],
   "source": [
    "# Plot prediction/ground truth\n",
    "import matplotlib.pyplot as plt\n",
    "\n",
    "def plot_comparison(model, data):\n",
    "    n_time = data.pressure.size(1)\n",
    "    edge_index = data.edge_index.to(args.device)\n",
    "    mesh_features = data.node_attr.to(args.device)\n",
    "    F_bc = data.flowrate_bc.to(args.device)\n",
    "    weight = data.node_weight.to(args.device)\n",
    "    F_initial = torch.cat([\n",
    "        data.pressure[:,0].unsqueeze(1), \n",
    "        data.flowrate[:,0].unsqueeze(1)\n",
    "    ], dim=-1).to(args.device) # concat pressure and flowrate\n",
    "    model.n_timesteps = n_time - 1\n",
    "\n",
    "    with torch.no_grad():\n",
    "        Fs, F_dots = model(F_initial, mesh_features, edge_index, F_bc)\n",
    "\n",
    "        Fs_hat = torch.cat([\n",
    "            data.pressure.unsqueeze(-1), \n",
    "            data.flowrate.unsqueeze(-1)\n",
    "        ], dim=-1).to(args.device) # concat pressure and flowrate\n",
    "        \n",
    "        # F_dots_hat = cal_derivative(Fs_hat, dim=1, delta_t=args.timesteps)\n",
    "        F_dots_hat = torch.cat([\n",
    "            data.pressure_dot.unsqueeze(-1), \n",
    "            data.flowrate_dot.unsqueeze(-1)\n",
    "        ], dim=-1).to(args.device)\n",
    "\n",
    "        Fs_hat = Fs_hat[:,1:,:]\n",
    "        F_dots_hat = F_dots_hat[:,1:,:]\n",
    "\n",
    "        loss = (1.-args.train_lambda)*criterion(Fs_hat, Fs) + \\\n",
    "            args.train_lambda*criterion(F_dots_hat, F_dots)\n",
    "        \n",
    "        total_loss = loss.item()\n",
    "    # print(Fs.size(), Fs_hat.size())\n",
    "    \n",
    "    \n",
    "\n",
    "    \n",
    "    # plot\n",
    "    i_node = 50\n",
    "    i_field = 1\n",
    "    y_pred = F_dots.cpu().numpy()[i_node,:,i_field]\n",
    "    y_true = F_dots_hat.cpu().numpy()[i_node,:,i_field]\n",
    "    x = [i * 4.0 /200 for i in range(y_pred.shape[0])]\n",
    "    plt.plot(x, y_pred, c='red', label='PIGNN')\n",
    "    plt.plot(x, y_true, c='blue', linestyle='dashdot', label='ground_truth')\n",
    "    # plt.ylim([-1,1])\n",
    "    plt.legend(loc='upper right')\n",
    "    plt.ylabel('flowrate', fontsize=20)\n",
    "    plt.xlabel('Time', fontsize=20)\n",
    "    plt.show()\n",
    "    \n",
    "    return total_loss\n",
    "\n",
    "dataset = OneDDatasetLoader(\n",
    "    root_dir='/data1/tam/downloaded_datasets_nodeattr_v2',\n",
    "    sub_dir='/validation/'\n",
    ")\n",
    "print('Dataset loaded.')\n",
    "\n",
    "plot_comparison(model, train_dataset[35])"
   ]
  }
 ],
 "metadata": {
  "kernelspec": {
   "display_name": "torch",
   "language": "python",
   "name": "python3"
  },
  "language_info": {
   "codemirror_mode": {
    "name": "ipython",
    "version": 3
   },
   "file_extension": ".py",
   "mimetype": "text/x-python",
   "name": "python",
   "nbconvert_exporter": "python",
   "pygments_lexer": "ipython3",
   "version": "3.9.12"
  }
 },
 "nbformat": 4,
 "nbformat_minor": 2
}

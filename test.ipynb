{
 "cells": [
  {
   "cell_type": "code",
   "execution_count": 1,
   "metadata": {},
   "outputs": [],
   "source": [
    "import torch\n",
    "from data.dataset import OneDDatasetLoader\n",
    "from networks.network_parc_v4 import PARC_reducedV4\n",
    "\n",
    "\n",
    "dataset = OneDDatasetLoader(\n",
    "    root_dir='/data1/tam/downloaded_datasets_nodeattr_v3',\n",
    "    sub_dir='/batched/'\n",
    ")\n",
    "data = dataset[0]\n",
    "\n",
    "model = PARC_reducedV4(\n",
    "    n_fields=2,\n",
    "    n_timesteps=data.pressure.size(1),\n",
    "    n_hiddenfields=32,\n",
    "    n_meshfields=10,\n",
    "    n_bcfields=1\n",
    ")\n",
    "\n",
    "edge_index = torch.cat([\n",
    "    data.edge_index, torch.flip(data.edge_index, dims=[0]\n",
    "    )], dim=1)\n",
    "mesh_features = data.node_attr\n",
    "F_bc = data.flowrate_bc\n",
    "\n",
    "F_initial = torch.cat([\n",
    "    data.pressure[:,0].unsqueeze(1), \n",
    "    data.flowrate[:,0].unsqueeze(1)\n",
    "], dim=-1)\n",
    "\n",
    "Fs, F_dots = model(F_initial, mesh_features, edge_index, F_bc, timesteps = 0.01)"
   ]
  },
  {
   "cell_type": "code",
   "execution_count": 3,
   "metadata": {},
   "outputs": [
    {
     "data": {
      "text/plain": [
       "torch.Size([257, 100, 2])"
      ]
     },
     "execution_count": 3,
     "metadata": {},
     "output_type": "execute_result"
    }
   ],
   "source": [
    "F_dots.size()"
   ]
  },
  {
   "cell_type": "markdown",
   "metadata": {},
   "source": []
  }
 ],
 "metadata": {
  "kernelspec": {
   "display_name": "geometric",
   "language": "python",
   "name": "python3"
  },
  "language_info": {
   "codemirror_mode": {
    "name": "ipython",
    "version": 3
   },
   "file_extension": ".py",
   "mimetype": "text/x-python",
   "name": "python",
   "nbconvert_exporter": "python",
   "pygments_lexer": "ipython3",
   "version": "3.11.3"
  },
  "orig_nbformat": 4
 },
 "nbformat": 4,
 "nbformat_minor": 2
}

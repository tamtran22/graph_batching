{
 "cells": [
  {
   "cell_type": "code",
   "execution_count": 1,
   "metadata": {},
   "outputs": [],
   "source": [
    "import numpy as np\n",
    "import torch\n",
    "from data.dataset import DatasetLoader, OneDDatasetLoader, OneDDatasetBuilder\n",
    "import matplotlib.pyplot as plt"
   ]
  },
  {
   "cell_type": "code",
   "execution_count": 2,
   "metadata": {},
   "outputs": [],
   "source": [
    "# Loading raw dataset\n",
    "dataset = OneDDatasetLoader(\n",
    "    root_dir='/data1/tam/downloaded_datasets_transformed'\n",
    ")"
   ]
  },
  {
   "cell_type": "code",
   "execution_count": null,
   "metadata": {},
   "outputs": [],
   "source": [
    "# Batching dataset\n",
    "batched_dataset = dataset.batching(batch_size=5000, batch_n_times=10, recursive=True,\n",
    "                                    sub_dir='/batched/')\n",
    "# batched_dataset = OneDDatasetLoader(\n",
    "#     root_dir='/data1/tam/downloaded_datasets_transformed',\n",
    "#     sub_dir='/batched/'\n",
    "# )"
   ]
  },
  {
   "cell_type": "code",
   "execution_count": 3,
   "metadata": {},
   "outputs": [
    {
     "name": "stdout",
     "output_type": "stream",
     "text": [
      "-1512.088 518.5069\n",
      "-0.0007853982 0.0007853982\n",
      "-1.8074648e-05 1.7163045e-05\n",
      "[0.01475028 0.4581773  0.         0.         0.         0.\n",
      " 0.        ] [153.9461   25.57864  30.        5.        4.      182.1354  182.1354 ]\n"
     ]
    }
   ],
   "source": [
    "# Transforming/scaling dataset\n",
    "p_min = dataset.min(var_name='pressure', axis=None).numpy()\n",
    "p_max = dataset.max(var_name='pressure', axis=None).numpy()\n",
    "print(p_min, p_max)\n",
    "q_min = dataset.min(var_name='flowrate', axis=None).numpy()\n",
    "q_max = dataset.max(var_name='flowrate', axis=None).numpy()\n",
    "print(q_min, q_max)\n",
    "u_min = dataset.min(var_name='velocity', axis=None).numpy()\n",
    "u_max = dataset.max(var_name='velocity', axis=None).numpy()\n",
    "print(u_min, u_max)\n",
    "\n",
    "ea_min = dataset.min(var_name='edge_attr', axis=0).numpy()\n",
    "ea_max = dataset.max(var_name='edge_attr', axis=0).numpy()\n",
    "vol0_min = ea_min[-2]\n",
    "vol1_min = ea_min[-1]\n",
    "vol0_max = ea_max[-2]\n",
    "vol1_max = ea_max[-1]\n",
    "ea_min[-2] = min(vol0_min, vol1_min)\n",
    "ea_min[-1] = min(vol0_min, vol1_min)\n",
    "ea_max[-2] = max(vol0_max, vol1_max)\n",
    "ea_max[-1] = max(vol0_max, vol1_max)\n",
    "print(ea_min, ea_max)\n",
    "\n",
    "\n",
    "# p_mean = dataset.mean(var_name='pressure', axis=None).numpy()\n",
    "# p_std = dataset.std(var_name='pressure', axis=None).numpy()\n",
    "# print(p_mean, p_std)\n",
    "# q_mean = dataset.mean(var_name='flowrate', axis=None).numpy()\n",
    "# q_std = dataset.std(var_name='flowrate', axis=None).numpy()\n",
    "# print(q_mean, q_std)\n",
    "# u_mean = dataset.mean(var_name='velocity', axis=None).numpy()\n",
    "# u_std = dataset.std(var_name='velocity', axis=None).numpy()\n",
    "# print(u_mean, u_std)"
   ]
  },
  {
   "cell_type": "code",
   "execution_count": null,
   "metadata": {},
   "outputs": [],
   "source": [
    "# Ploting pressure distribution\n",
    "\n",
    "p = dataset[0].pressure.numpy()[:,1]\n",
    "\n",
    "p = -1+2*(p-p_min)/(p_max-p_min)\n",
    "# p = (p-p_mean)/(p_std+1e-10)\n",
    "plt.ylim(-1,1)\n",
    "# plt.hist(p, bins=1000)\n",
    "plt.plot(list(range(len(p))), p)\n",
    "plt.show()"
   ]
  },
  {
   "cell_type": "code",
   "execution_count": null,
   "metadata": {},
   "outputs": [],
   "source": [
    "# Ploting flowrate distribution\n",
    "\n",
    "q = dataset[0].flowrate.numpy()[50000,:]\n",
    "\n",
    "# q = (q-q_mean)/(q_std+1e-10)\n",
    "# q = -1+2*(q-q_min)/(q_max-q_min)\n",
    "# plt.xlim(-1,1)\n",
    "# plt.hist(q, bins=10)\n",
    "plt.plot(list(range(len(q))), q)\n",
    "plt.show()"
   ]
  },
  {
   "cell_type": "code",
   "execution_count": null,
   "metadata": {},
   "outputs": [],
   "source": [
    "# Plot volume\n",
    "data = dataset[0]\n",
    "vol0 = data.edge_attr[:,0].numpy()\n",
    "vol1 = data.edge_attr[:,1].numpy()\n",
    "\n",
    "# v_min = min(vol0.min(), vol1.min())\n",
    "# v_max = max(vol0.max(), vol1.max())\n",
    "\n",
    "# vol0 = -1+2*(vol0 - v_min)/(v_max - v_min)\n",
    "# vol1 = -1+2*(vol1 - v_min)/(v_max - v_min)\n",
    "\n",
    "# vol0 = (vol0 - vol0.mean())/(vol0.std() + 1e-10)\n",
    "# vol1 = (vol1 - vol1.mean())/(vol1.std() + 1e-10)\n",
    "\n",
    "vol0 = (vol0 - vol0.min())/(vol0.max() + vol0.min())\n",
    "vol1 = (vol1 - vol1.min())/(vol1.max() + vol0.min())\n",
    "\n",
    "\n",
    "# vol0 = (vol0 - np.median(vol0))/(np.percentile(vol0, 75) - np.percentile(vol0, 25))\n",
    "# vol1 = (vol1 - np.median(vol1))/(np.percentile(vol1, 75) - np.percentile(vol1, 25))\n",
    "\n",
    "plt.plot(list(range(vol0.shape[0])), vol0, c='red')\n",
    "plt.plot(list(range(vol0.shape[0])), vol1, c='blue')\n",
    "# plt.xlim(4350, 4450)\n",
    "# plt.ylim(-0.98,-0.88)\n",
    "plt.show()"
   ]
  },
  {
   "cell_type": "code",
   "execution_count": null,
   "metadata": {},
   "outputs": [],
   "source": [
    "# Correlation scatter plot\n",
    "data = dataset[0]\n",
    "x = data.edge_attr.numpy()[:,6]\n",
    "# y = data.velocity.numpy()[:,50]\n",
    "y = data.flowrate.numpy().mean(axis=1)\n",
    "\n",
    "y = (y - u_min)/(u_max - u_min)\n",
    "# y = np.sign(y)*np.log(1. + np.abs(y)/1e2)\n",
    "# d = data.edge_attr.numpy()[:,1]\n",
    "# y = y / (np.square(d))\n",
    "plt.scatter(x, y)\n",
    "plt.show()"
   ]
  },
  {
   "cell_type": "code",
   "execution_count": 6,
   "metadata": {},
   "outputs": [
    {
     "name": "stdout",
     "output_type": "stream",
     "text": [
      "TorchGraphData(x=[59769, 3], edge_index=[2, 59768], edge_attr=[59768, 7], pressure=[59769, 201], velocity=[59768, 201], flowrate_bc=[59768, 201])\n"
     ]
    },
    {
     "data": {
      "image/png": "[encoded data removed]",
      "text/plain": [
       "<Figure size 640x480 with 1 Axes>"
      ]
     },
     "metadata": {},
     "output_type": "display_data"
    }
   ],
   "source": [
    "# test normalize\n",
    "from preprocessing.normalize import normalize_data_1d\n",
    "data = dataset[0]\n",
    "normed_data = normalize_data_1d(\n",
    "    data=data,\n",
    "    x_min=0, x_max=512,\n",
    "    ea_min=ea_min, ea_max=ea_max,\n",
    "    p_min=p_min, p_max=p_max,\n",
    "    u_min=u_min, u_max=u_max\n",
    ")\n",
    "print(normed_data)\n",
    "plt.plot(normed_data.flowrate_bc[1000,:])\n",
    "plt.show()"
   ]
  },
  {
   "cell_type": "code",
   "execution_count": 16,
   "metadata": {},
   "outputs": [
    {
     "name": "stdout",
     "output_type": "stream",
     "text": [
      "(array([59637,   120,     9,     0,     1,     0,     0,     0,     0,\n",
      "           1]), array([5.7316691e-02, 1.2440395e+01, 2.4823473e+01, 3.7206551e+01,\n",
      "       4.9589630e+01, 6.1972710e+01, 7.4355789e+01, 8.6738861e+01,\n",
      "       9.9121941e+01, 1.1150502e+02, 1.2388810e+02], dtype=float32))\n"
     ]
    }
   ],
   "source": [
    "# calculate weighted loss\n",
    "data = dataset[0]\n",
    "diam = data.edge_attr.numpy()[:,0]\n",
    "length = data.edge_attr.numpy()[:,1]\n",
    "\n",
    "diam_hist = np.histogram(diam, bins=10)\n",
    "print(diam_hist)\n",
    "# plt.plot(diam_hist[0])\n",
    "# plt.hist(diam, bins=100)\n",
    "# plt.show()"
   ]
  }
 ],
 "metadata": {
  "kernelspec": {
   "display_name": "torch",
   "language": "python",
   "name": "python3"
  },
  "language_info": {
   "codemirror_mode": {
    "name": "ipython",
    "version": 3
   },
   "file_extension": ".py",
   "mimetype": "text/x-python",
   "name": "python",
   "nbconvert_exporter": "python",
   "pygments_lexer": "ipython3",
   "version": "3.9.12"
  },
  "orig_nbformat": 4
 },
 "nbformat": 4,
 "nbformat_minor": 2
}

{
 "cells": [
  {
   "cell_type": "code",
   "execution_count": 1,
   "metadata": {},
   "outputs": [],
   "source": [
    "import numpy as np\n",
    "from data.dataset import DatasetLoader, OneDDatasetBuilder"
   ]
  },
  {
   "cell_type": "code",
   "execution_count": null,
   "metadata": {},
   "outputs": [],
   "source": [
    "dataset = DatasetLoader(\n",
    "    root_dir='/data1/tam/downloaded_datasets'\n",
    ")\n",
    "print(dataset[0])"
   ]
  },
  {
   "cell_type": "code",
   "execution_count": 3,
   "metadata": {},
   "outputs": [
    {
     "data": {
      "text/plain": [
       "['10291',\n",
       " '10296',\n",
       " '10167',\n",
       " '10134',\n",
       " '10081',\n",
       " '10088',\n",
       " '10132',\n",
       " '10131',\n",
       " '10133',\n",
       " '10119',\n",
       " '10323',\n",
       " '10120',\n",
       " '10136',\n",
       " '10097',\n",
       " '10279',\n",
       " '10286',\n",
       " '10310',\n",
       " '10163',\n",
       " '10137',\n",
       " '10327',\n",
       " '10125']"
      ]
     },
     "execution_count": 3,
     "metadata": {},
     "output_type": "execute_result"
    }
   ],
   "source": [
    "dataset = OneDDatasetBuilder(\n",
    "    raw_dir='/data1/tam/datasets',\n",
    "    root_dir='/data1/tam/downloaded_datasets',\n",
    "    data_names='all'\n",
    ")\n",
    "dataset.processed_file_names"
   ]
  }
 ],
 "metadata": {
  "kernelspec": {
   "display_name": "torch",
   "language": "python",
   "name": "python3"
  },
  "language_info": {
   "codemirror_mode": {
    "name": "ipython",
    "version": 3
   },
   "file_extension": ".py",
   "mimetype": "text/x-python",
   "name": "python",
   "nbconvert_exporter": "python",
   "pygments_lexer": "ipython3",
   "version": "3.9.12"
  },
  "orig_nbformat": 4,
  "vscode": {
   "interpreter": {
    "hash": "db637ecd267e8785137d274d569a1de945f5091a2538863d3f2fda8d3b4d9cce"
   }
  }
 },
 "nbformat": 4,
 "nbformat_minor": 2
}

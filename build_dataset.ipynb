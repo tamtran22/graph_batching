{
 "cells": [
  {
   "cell_type": "code",
   "execution_count": 1,
   "metadata": {},
   "outputs": [],
   "source": [
    "import numpy as np\n",
    "from data.dataset import OneDDatasetLoader, OneDDatasetBuilder\n",
    "import time"
   ]
  },
  {
   "cell_type": "code",
   "execution_count": 2,
   "metadata": {},
   "outputs": [],
   "source": [
    "def time_str(time_in_seconds : float):\n",
    "    hour = int(time_in_seconds / 3600)\n",
    "    minute = int(time_in_seconds / 60) - hour * 60\n",
    "    second = int(time_in_seconds) - hour * 3600 - minute * 60\n",
    "    def _str(num : int):\n",
    "        if num <= 1:\n",
    "            return ''\n",
    "        else:\n",
    "            return 's'\n",
    "    return f'{hour} hour{_str(hour)} {minute} minute{_str(minute)} {second} second{_str(second)}'"
   ]
  },
  {
   "cell_type": "code",
   "execution_count": 3,
   "metadata": {},
   "outputs": [
    {
     "name": "stderr",
     "output_type": "stream",
     "text": [
      "Processing...\n"
     ]
    },
    {
     "name": "stdout",
     "output_type": "stream",
     "text": [
      "Process subject number 0, subject name : CEMENT416.\n",
      "Process subject number 1, subject name : 10291.\n",
      "Process subject number 2, subject name : CEMENT254.\n",
      "Process subject number 3, subject name : 10296.\n",
      "Process subject number 4, subject name : 10167.\n",
      "Process subject number 5, subject name : 10134.\n",
      "Process subject number 6, subject name : 10081.\n",
      "Process subject number 7, subject name : 10088.\n",
      "Process subject number 8, subject name : CEMENT281.\n",
      "Process subject number 9, subject name : 10132.\n",
      "Process subject number 10, subject name : 10131.\n",
      "Process subject number 11, subject name : CEMENT077.\n",
      "Process subject number 12, subject name : CEMENT085.\n",
      "Process subject number 13, subject name : CEMENT011.\n",
      "Process subject number 14, subject name : 10133.\n",
      "Process subject number 15, subject name : CEMENT220.\n",
      "Process subject number 16, subject name : 10119.\n",
      "Process subject number 17, subject name : 10323.\n",
      "Process subject number 18, subject name : CEMENT256.\n",
      "Process subject number 19, subject name : CEMENT021.\n",
      "Process subject number 20, subject name : CEMENT045.\n",
      "Process subject number 21, subject name : 10120.\n",
      "Process subject number 22, subject name : 10136.\n",
      "Process subject number 23, subject name : CEMENT375.\n",
      "Process subject number 24, subject name : 10097.\n",
      "Process subject number 25, subject name : 10279.\n",
      "Process subject number 26, subject name : CEMENT441.\n",
      "Process subject number 27, subject name : CEMENT037.\n",
      "Process subject number 28, subject name : CEMENT346.\n",
      "Process subject number 29, subject name : 10286.\n",
      "Process subject number 30, subject name : 10310.\n",
      "Process subject number 31, subject name : CEMENT044.\n",
      "Process subject number 32, subject name : CEMENT296.\n",
      "Process subject number 33, subject name : CEMENT269.\n",
      "Process subject number 34, subject name : 10163.\n",
      "Process subject number 35, subject name : 10137.\n",
      "Process subject number 36, subject name : CEMENT012.\n",
      "Process subject number 37, subject name : CEMENT292.\n",
      "Process subject number 38, subject name : CEMENT343.\n",
      "Process subject number 39, subject name : 10327.\n",
      "Process subject number 40, subject name : 10125.\n",
      "Process in 0 hour 57 minutes 58 seconds.\n"
     ]
    },
    {
     "name": "stderr",
     "output_type": "stream",
     "text": [
      "Done!\n"
     ]
    }
   ],
   "source": [
    "curr_time = time.time()\n",
    "dataset = OneDDatasetBuilder(\n",
    "    raw_dir='/data1/tam/datasets',\n",
    "    root_dir='/data1/tam/downloaded_datasets_nodeattr_v2',\n",
    "    data_names='all',\n",
    "    time_id=[str(i).zfill(3) for i in range(201)]\n",
    ")\n",
    "print(f'Process in {time_str(time.time()-curr_time)}.')"
   ]
  },
  {
   "cell_type": "code",
   "execution_count": 5,
   "metadata": {},
   "outputs": [
    {
     "data": {
      "text/plain": [
       "TorchGraphData(edge_index=[2, 59768], node_attr=[59769, 10], pressure=[59769, 201], flowrate=[59769, 201], flowrate_bc=[59769, 201])"
      ]
     },
     "execution_count": 5,
     "metadata": {},
     "output_type": "execute_result"
    }
   ],
   "source": [
    "dataset = OneDDatasetLoader(\n",
    "    root_dir='/data1/tam/downloaded_datasets_nodeattr_v2'\n",
    ")\n",
    "dataset[0]"
   ]
  },
  {
   "cell_type": "code",
   "execution_count": null,
   "metadata": {},
   "outputs": [],
   "source": [
    "from data.data import TorchGraphData\n",
    "\n",
    "data = TorchGraphData()\n",
    "\n",
    "setattr(data, 'x', [1,2])\n",
    "data._store"
   ]
  },
  {
   "cell_type": "code",
   "execution_count": null,
   "metadata": {},
   "outputs": [],
   "source": [
    "import matplotlib.pyplot as plt\n",
    "y = dataset[0].velocity[50000,:]\n",
    "y = np.sign(y)*np.log(1+np.abs(y)/0.01)\n",
    "y = -1 + 2*(y-y.min())/(y.max()-y.min())\n",
    "plt.plot(y)\n",
    "plt.show()"
   ]
  },
  {
   "cell_type": "code",
   "execution_count": null,
   "metadata": {},
   "outputs": [],
   "source": [
    "pi = 3.1415926\n",
    "diam = dataset[0].edge_attr[:,1].numpy()\n",
    "y = dataset[0].pressure[50,:].numpy()\n",
    "# y = dataset[0].pressure[:,10].numpy()\n",
    "# x = range(y.shape[0])\n",
    "import matplotlib.pyplot as plt\n",
    "plt.plot(y)\n",
    "# plt.plot(x,_y)\n",
    "# plt.ylim((0,100))\n",
    "plt.show()"
   ]
  }
 ],
 "metadata": {
  "kernelspec": {
   "display_name": "torch",
   "language": "python",
   "name": "python3"
  },
  "language_info": {
   "codemirror_mode": {
    "name": "ipython",
    "version": 3
   },
   "file_extension": ".py",
   "mimetype": "text/x-python",
   "name": "python",
   "nbconvert_exporter": "python",
   "pygments_lexer": "ipython3",
   "version": "3.9.12"
  },
  "orig_nbformat": 4
 },
 "nbformat": 4,
 "nbformat_minor": 2
}

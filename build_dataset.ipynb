{
 "cells": [
  {
   "cell_type": "code",
   "execution_count": null,
   "metadata": {},
   "outputs": [],
   "source": [
    "import numpy as np\n",
    "from data.dataset import DatasetLoader, OneDDatasetBuilder\n",
    "import time"
   ]
  },
  {
   "cell_type": "code",
   "execution_count": null,
   "metadata": {},
   "outputs": [],
   "source": [
    "def time_str(time_in_seconds : float):\n",
    "    hour = int(time_in_seconds / 3600)\n",
    "    minute = int(time_in_seconds / 60) - hour * 60\n",
    "    second = int(time_in_seconds) - hour * 3600 - minute * 60\n",
    "    def _str(num : int):\n",
    "        if num <= 1:\n",
    "            return ''\n",
    "        else:\n",
    "            return 's'\n",
    "    return f'{hour} hour{_str(hour)} {minute} minute{_str(minute)} {second} second{_str(second)}'"
   ]
  },
  {
   "cell_type": "code",
   "execution_count": null,
   "metadata": {},
   "outputs": [],
   "source": [
    "curr_time = time.time()\n",
    "dataset = OneDDatasetBuilder(\n",
    "    raw_dir='/data1/tam/datasets',\n",
    "    root_dir='/data1/tam/downloaded_datasets_transformed',\n",
    "    data_names='all',\n",
    "    time_id=[str(i).zfill(3) for i in range(201)]\n",
    ")\n",
    "print(f'Process in {time_str(time.time()-curr_time)}.')"
   ]
  },
  {
   "cell_type": "code",
   "execution_count": null,
   "metadata": {},
   "outputs": [],
   "source": [
    "dataset = DatasetLoader(\n",
    "    root_dir='/data1/tam/downloaded_datasets'\n",
    ")\n",
    "print(dataset[0])"
   ]
  },
  {
   "cell_type": "code",
   "execution_count": null,
   "metadata": {},
   "outputs": [],
   "source": [
    "pi = 3.1415926\n",
    "diam = dataset[0].edge_attr[:,1].numpy()\n",
    "y = dataset[0].velocity[:,10].numpy()\n",
    "# y = dataset[0].pressure[:,10].numpy()\n",
    "x = range(y.shape[0])\n",
    "import matplotlib.pyplot as plt\n",
    "plt.plot(x,y)\n",
    "# plt.plot(x,_y)\n",
    "# plt.ylim((0,100))\n",
    "plt.show()"
   ]
  }
 ],
 "metadata": {
  "kernelspec": {
   "display_name": "torch",
   "language": "python",
   "name": "python3"
  },
  "language_info": {
   "codemirror_mode": {
    "name": "ipython",
    "version": 3
   },
   "file_extension": ".py",
   "mimetype": "text/x-python",
   "name": "python",
   "nbconvert_exporter": "python",
   "pygments_lexer": "ipython3",
   "version": "3.9.12"
  },
  "orig_nbformat": 4
 },
 "nbformat": 4,
 "nbformat_minor": 2
}

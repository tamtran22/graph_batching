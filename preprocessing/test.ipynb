{
 "cells": [
  {
   "cell_type": "code",
   "execution_count": 1,
   "metadata": {},
   "outputs": [
    {
     "ename": "ModuleNotFoundError",
     "evalue": "No module named 'nxmetis'",
     "output_type": "error",
     "traceback": [
      "\u001b[1;31m---------------------------------------------------------------------------\u001b[0m",
      "\u001b[1;31mModuleNotFoundError\u001b[0m                       Traceback (most recent call last)",
      "\u001b[1;32m<ipython-input-1-55f0644e6e2e>\u001b[0m in \u001b[0;36m<module>\u001b[1;34m\u001b[0m\n\u001b[0;32m      1\u001b[0m \u001b[1;32mimport\u001b[0m \u001b[0mnumpy\u001b[0m \u001b[1;32mas\u001b[0m \u001b[0mnp\u001b[0m\u001b[1;33m\u001b[0m\u001b[1;33m\u001b[0m\u001b[0m\n\u001b[0;32m      2\u001b[0m \u001b[1;32mfrom\u001b[0m \u001b[0mdata\u001b[0m \u001b[1;32mimport\u001b[0m \u001b[0mGraphData\u001b[0m\u001b[1;33m\u001b[0m\u001b[1;33m\u001b[0m\u001b[0m\n\u001b[1;32m----> 3\u001b[1;33m \u001b[1;32mfrom\u001b[0m \u001b[0mbatching\u001b[0m \u001b[1;32mimport\u001b[0m \u001b[1;33m*\u001b[0m\u001b[1;33m\u001b[0m\u001b[1;33m\u001b[0m\u001b[0m\n\u001b[0m\u001b[0;32m      4\u001b[0m \u001b[1;32mfrom\u001b[0m \u001b[0mfile_reader\u001b[0m \u001b[1;32mimport\u001b[0m \u001b[0mread_file_input\u001b[0m\u001b[1;33m,\u001b[0m \u001b[0mread_file_output\u001b[0m\u001b[1;33m\u001b[0m\u001b[1;33m\u001b[0m\u001b[0m\n\u001b[0;32m      5\u001b[0m \u001b[1;33m\u001b[0m\u001b[0m\n",
      "\u001b[1;32md:\\Tam\\Python\\python_graph_utilities\\preprocessing\\batching.py\u001b[0m in \u001b[0;36m<module>\u001b[1;34m\u001b[0m\n\u001b[0;32m      4\u001b[0m \u001b[1;32mimport\u001b[0m \u001b[0mnetworkx\u001b[0m \u001b[1;32mas\u001b[0m \u001b[0mnx\u001b[0m\u001b[1;33m\u001b[0m\u001b[1;33m\u001b[0m\u001b[0m\n\u001b[0;32m      5\u001b[0m \u001b[1;33m\u001b[0m\u001b[0m\n\u001b[1;32m----> 6\u001b[1;33m \u001b[1;32mimport\u001b[0m \u001b[0mnxmetis\u001b[0m\u001b[1;33m\u001b[0m\u001b[1;33m\u001b[0m\u001b[0m\n\u001b[0m\u001b[0;32m      7\u001b[0m \u001b[1;33m\u001b[0m\u001b[0m\n\u001b[0;32m      8\u001b[0m \u001b[1;32mfrom\u001b[0m \u001b[0msknetwork\u001b[0m\u001b[1;33m.\u001b[0m\u001b[0mclustering\u001b[0m \u001b[1;32mimport\u001b[0m \u001b[0mLouvain\u001b[0m\u001b[1;33m,\u001b[0m \u001b[0mPropagationClustering\u001b[0m\u001b[1;33m\u001b[0m\u001b[1;33m\u001b[0m\u001b[0m\n",
      "\u001b[1;31mModuleNotFoundError\u001b[0m: No module named 'nxmetis'"
     ]
    }
   ],
   "source": [
    "import numpy as np\n",
    "from data import GraphData\n",
    "from batching import *\n",
    "from file_reader import read_file_input, read_file_output\n",
    "\n",
    "\n",
    "if __name__ == '__main__':\n",
    "    # Read Output_Amount_St_whole.dat.\n",
    "    var = read_file_input(file_name='./data_test/Output_10081_Amount_St_whole.dat')\n",
    "    print('Finished reading input file.')\n",
    "    # Create graph data instance.\n",
    "    data = GraphData(var['x'], var['edge_index'], var['edge_attr'])\n",
    "    print('Finished creating graph data instance.')\n",
    "    # Spectral clustering\n",
    "    batchs = metis_batching(\n",
    "        data=data,\n",
    "        relative_batch_size=100,\n",
    "        recursive=False\n",
    "    )\n",
    "    print(len(batchs))\n",
    "    print('Finish spectral clustering.')\n",
    "    # for _data in batchs:\n",
    "    # for j in range(len(batchs)):\n",
    "    for j in range(10,11):\n",
    "        _data = batchs[j]\n",
    "        print(_data.n_node, _data.n_edge)\n",
    "        _data.render()\n",
    "        break"
   ]
  }
 ],
 "metadata": {
  "kernelspec": {
   "display_name": "base",
   "language": "python",
   "name": "python3"
  },
  "language_info": {
   "codemirror_mode": {
    "name": "ipython",
    "version": 3
   },
   "file_extension": ".py",
   "mimetype": "text/x-python",
   "name": "python",
   "nbconvert_exporter": "python",
   "pygments_lexer": "ipython3",
   "version": "3.8.8"
  },
  "orig_nbformat": 4,
  "vscode": {
   "interpreter": {
    "hash": "a8a6ee9d700f41d73f365e91b241e3900f4cc4380b9f3045d3aeaf423e15629f"
   }
  }
 },
 "nbformat": 4,
 "nbformat_minor": 2
}

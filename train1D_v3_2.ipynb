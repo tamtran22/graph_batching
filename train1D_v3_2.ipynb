{
 "cells": [
  {
   "attachments": {},
   "cell_type": "markdown",
   "metadata": {},
   "source": [
    "Import dataset"
   ]
  },
  {
   "cell_type": "code",
   "execution_count": 1,
   "metadata": {},
   "outputs": [],
   "source": [
    "import numpy as np\n",
    "import torch\n",
    "from data.dataset import OneDDatasetLoader, DatasetLoader\n",
    "from typing import List\n",
    "from preprocessing.batching import merge_graphs\n",
    "from torch_geometric.loader import DataLoader\n",
    "\n",
    "def train_eval_split(dataset : DatasetLoader, train_id : List, eval_id : List):\n",
    "    # Get batching id\n",
    "    if dataset._sub_dir == '/batched/':\n",
    "        batching_id = dataset.batching_id.numpy()\n",
    "        train_id = list(np.where(np.isin(batching_id, train_id) == True)[0])\n",
    "        eval_id = list(np.where(np.isin(batching_id, eval_id) == True)[0])\n",
    "    # Train dataset\n",
    "    train_dataset = [dataset[i] for i in train_id]\n",
    "    # Test dataset\n",
    "    eval_dataset = [dataset[i] for i in eval_id]\n",
    "    return train_dataset, eval_dataset"
   ]
  },
  {
   "cell_type": "code",
   "execution_count": 2,
   "metadata": {},
   "outputs": [
    {
     "name": "stdout",
     "output_type": "stream",
     "text": [
      "Dataset loaded.\n"
     ]
    }
   ],
   "source": [
    "dataset = OneDDatasetLoader(\n",
    "    root_dir='/data1/tam/downloaded_datasets_nodeattr_v2',\n",
    "    sub_dir='/batched/'\n",
    ")\n",
    "print('Dataset loaded.')\n",
    "\n",
    "train_dataset, test_dataset = train_eval_split(dataset,\n",
    "    train_id=list(range(15,30)), eval_id=list(range(0,15)))"
   ]
  },
  {
   "cell_type": "code",
   "execution_count": 3,
   "metadata": {},
   "outputs": [],
   "source": [
    "train_loader = DataLoader(train_dataset, batch_size=50)\n",
    "test_loader = DataLoader(test_dataset, batch_size=50)"
   ]
  },
  {
   "attachments": {},
   "cell_type": "markdown",
   "metadata": {},
   "source": [
    "Train"
   ]
  },
  {
   "cell_type": "code",
   "execution_count": 4,
   "metadata": {},
   "outputs": [],
   "source": [
    "import os\n",
    "import torch\n",
    "from networks.network_parc import PARC\n",
    "os.environ[\"CUDA_VISIBLE_DEVICES\"]=\"2\"\n",
    "from networks.network_recurrent import objectview\n",
    "from networks.loss import WeightedMSELoss\n",
    "CUDA_LAUNCH_BLOCKING=1\n",
    "torch.cuda.empty_cache()\n",
    "\n",
    "# Model params\n",
    "args = objectview({\n",
    "    'n_fields' : 2,\n",
    "    'n_timesteps' : 1,\n",
    "    'n_hiddenfields' : 128,\n",
    "    'n_meshfields' : dataset[0].node_attr.size(1),\n",
    "    'n_bcfields' : 1,\n",
    "    'timesteps' : 0.02,\n",
    "    'device' : torch.device(\"cuda:0\" if torch.cuda.is_available() else \"cpu\"),\n",
    "    'lr' : 5e-7,\n",
    "    'weight_decay' : 1e-3,\n",
    "    'epoch' : 100,\n",
    "    'train_lambda' : 1.0\n",
    "})\n",
    "\n",
    "# Model initializing\n",
    "model = PARC(\n",
    "    n_fields=args.n_fields,\n",
    "    n_timesteps=args.n_timesteps,\n",
    "    n_hiddenfields=args.n_hiddenfields,\n",
    "    n_meshfields=args.n_meshfields,\n",
    "    n_bcfields=args.n_bcfields\n",
    ")\n",
    "model = model.to(args.device)\n",
    "optimizer = torch.optim.Adam(model.parameters(), lr=args.lr, weight_decay=args.weight_decay)\n",
    "# criterion = torch.nn.MSELoss()\n",
    "criterion = WeightedMSELoss()"
   ]
  },
  {
   "cell_type": "code",
   "execution_count": 5,
   "metadata": {
    "scrolled": true
   },
   "outputs": [
    {
     "name": "stdout",
     "output_type": "stream",
     "text": [
      "Epoch 0: train loss = 0.04559903670298426; eval loss = 0.0391562990566243\n",
      "Epoch 1: train loss = 0.029079878352638474; eval loss = 0.02768479726875006\n",
      "Epoch 2: train loss = 0.020488044303050616; eval loss = 0.01938992366194725\n",
      "Epoch 3: train loss = 0.01431986745586969; eval loss = 0.013968412757420274\n",
      "Epoch 4: train loss = 0.010876518548151156; eval loss = 0.010939152980807111\n",
      "Epoch 5: train loss = 0.009042970584075254; eval loss = 0.009494860656559467\n",
      "Epoch 6: train loss = 0.008361116667887322; eval loss = 0.008903716704738674\n",
      "Epoch 7: train loss = 0.008202782005799892; eval loss = 0.008852500475442676\n",
      "Epoch 8: train loss = 0.008350199081451822; eval loss = 0.008982591337955264\n",
      "Epoch 9: train loss = 0.008463876314909387; eval loss = 0.008937696926295757\n",
      "Epoch 10: train loss = 0.008339735931415754; eval loss = 0.008678814396262169\n",
      "Epoch 11: train loss = 0.008067353929680093; eval loss = 0.008322302252054214\n",
      "Epoch 12: train loss = 0.007697939042954293; eval loss = 0.00791010936833362\n",
      "Epoch 13: train loss = 0.007293379144336944; eval loss = 0.007555355467319266\n",
      "Epoch 14: train loss = 0.006936257207920228; eval loss = 0.007243728268641367\n",
      "Epoch 15: train loss = 0.00664019158908299; eval loss = 0.006959423249059204\n",
      "Epoch 16: train loss = 0.00638659755328208; eval loss = 0.006727481260895729\n",
      "Epoch 17: train loss = 0.00615104316922843; eval loss = 0.006534921749036258\n",
      "Epoch 18: train loss = 0.005926636597351697; eval loss = 0.00641062123520272\n",
      "Epoch 19: train loss = 0.005749406492603677; eval loss = 0.006346589906502571\n",
      "Epoch 20: train loss = 0.005609144582728246; eval loss = 0.006246740356393492\n",
      "Epoch 21: train loss = 0.00545638621805754; eval loss = 0.006086062473147663\n",
      "Epoch 22: train loss = 0.005296981557363406; eval loss = 0.005921296201952135\n",
      "Epoch 23: train loss = 0.0051339953521588695; eval loss = 0.005769676636598671\n",
      "Epoch 24: train loss = 0.004944519423424525; eval loss = 0.005629798369621163\n",
      "Epoch 25: train loss = 0.004745709653803729; eval loss = 0.005510373975831403\n",
      "Epoch 26: train loss = 0.004562742672020332; eval loss = 0.00536062243158248\n",
      "Epoch 27: train loss = 0.057122650227152315; eval loss = 0.03514976565962407\n",
      "Epoch 28: train loss = 0.02308492095006588; eval loss = 0.017472980530070726\n",
      "Epoch 29: train loss = 0.014025315733388402; eval loss = 0.013883573934435844\n",
      "Epoch 30: train loss = 0.012466043170849631; eval loss = 0.01331091858446598\n",
      "Epoch 31: train loss = 0.0125930035990992; eval loss = 0.014379038294749473\n",
      "Epoch 32: train loss = 0.014001876108796526; eval loss = 0.016190018546559028\n",
      "Epoch 33: train loss = 0.015430375149375513; eval loss = 0.017203232231758424\n",
      "Epoch 34: train loss = 0.015795069767680383; eval loss = 0.016958631700210607\n",
      "Epoch 35: train loss = 0.015281005468415586; eval loss = 0.016178754186118718\n",
      "Epoch 36: train loss = 0.014604493534486545; eval loss = 0.015508147408323946\n",
      "Epoch 37: train loss = 0.014109942137746882; eval loss = 0.015044651911663475\n",
      "Epoch 38: train loss = 0.013714968703014958; eval loss = 0.014596492052078247\n",
      "Epoch 39: train loss = 0.01325673289260918; eval loss = 0.014005601399147244\n",
      "Epoch 40: train loss = 0.012670223412096948; eval loss = 0.013312061706474468\n",
      "Epoch 41: train loss = 0.01205968828801822; eval loss = 0.012754478853251507\n",
      "Epoch 42: train loss = 0.011680313133935732; eval loss = 0.012466092663469599\n",
      "Epoch 43: train loss = 0.011436664296272105; eval loss = 0.012095799620972196\n",
      "Epoch 44: train loss = 0.01102102286693521; eval loss = 0.011558610945940018\n",
      "Epoch 45: train loss = 0.010487200405196588; eval loss = 0.011001060716807842\n",
      "Epoch 46: train loss = 0.009977673761602631; eval loss = 0.010538958325815289\n",
      "Epoch 47: train loss = 0.009588404425552912; eval loss = 0.010217430674707267\n",
      "Epoch 48: train loss = 0.009343553572557027; eval loss = 0.01003910209149567\n",
      "Epoch 49: train loss = 0.009232221983541223; eval loss = 0.009988460689783096\n",
      "Epoch 50: train loss = 0.009215645064928927; eval loss = 0.010007401914405288\n",
      "Epoch 51: train loss = 0.009230887041168106; eval loss = 0.010023185983300209\n",
      "Epoch 52: train loss = 0.00923294674156976; eval loss = 0.010007429867982864\n",
      "Epoch 53: train loss = 0.009198919400796854; eval loss = 0.00996200513066863\n",
      "Epoch 54: train loss = 0.009127052556863404; eval loss = 0.009885075481247101\n",
      "Epoch 55: train loss = 0.009020230172664151; eval loss = 0.009801812400457575\n",
      "Epoch 56: train loss = 0.008908167299359365; eval loss = 0.009761659379826109\n",
      "Epoch 57: train loss = 0.008856299319269513; eval loss = 0.009852683234181422\n",
      "Epoch 58: train loss = 0.008894248235326512; eval loss = 0.009950866943586673\n",
      "Epoch 59: train loss = 0.008839956862865983; eval loss = 0.00976888314862527\n",
      "Epoch 60: train loss = 0.008712872673750371; eval loss = 0.009663173963607692\n",
      "Epoch 61: train loss = 0.00873024174873542; eval loss = 0.009666508418132566\n",
      "Epoch 62: train loss = 0.008680777120074831; eval loss = 0.009550453135882741\n",
      "Epoch 63: train loss = 0.00848938161297176; eval loss = 0.009643245550956744\n",
      "Epoch 64: train loss = 0.008531275723493636; eval loss = 0.00995530776067901\n",
      "Epoch 65: train loss = 0.008387521350462186; eval loss = 0.009385270990931721\n",
      "Epoch 66: train loss = 0.008484329440091786; eval loss = 0.00939996913075447\n",
      "Epoch 67: train loss = 0.008417333252167791; eval loss = 0.009359712497011494\n",
      "Epoch 68: train loss = 0.008449860995537356; eval loss = 0.009825090189645095\n",
      "Epoch 69: train loss = 0.00833309086081677; eval loss = 0.00923593069162609\n",
      "Epoch 70: train loss = 0.008457515836882413; eval loss = 0.009286918114425976\n",
      "Epoch 71: train loss = 0.0082593179636992; eval loss = 0.009190516546368599\n",
      "Epoch 72: train loss = 0.008385416876552696; eval loss = 0.009208817146162488\n",
      "Epoch 73: train loss = 0.00821376561110181; eval loss = 0.009231535717844963\n",
      "Epoch 74: train loss = 0.008438606991579658; eval loss = 0.009239392362034587\n",
      "Epoch 75: train loss = 0.008227451816481306; eval loss = 0.009070395589319628\n",
      "Epoch 76: train loss = 0.008375356295951326; eval loss = 0.009409934275352689\n",
      "Epoch 77: train loss = 0.008241969279776839; eval loss = 0.009034968905651303\n",
      "Epoch 78: train loss = 0.008318355860174598; eval loss = 0.009350014850497246\n",
      "Epoch 79: train loss = 0.00835979394474648; eval loss = 0.009061313838934276\n",
      "Epoch 80: train loss = 0.008125213486023415; eval loss = 0.009191339043205354\n",
      "Epoch 81: train loss = 0.008354538645511283; eval loss = 0.009067387473004968\n",
      "Epoch 82: train loss = 0.00807091853532352; eval loss = 0.009105302191881546\n",
      "Epoch 83: train loss = 0.008358740093732686; eval loss = 0.009228000445152396\n",
      "Epoch 84: train loss = 0.00809183288225554; eval loss = 0.008895516416419353\n",
      "Epoch 85: train loss = 0.00823504832062058; eval loss = 0.009461356375588854\n",
      "Epoch 86: train loss = 0.008095209682850461; eval loss = 0.00884316377202744\n",
      "Epoch 87: train loss = 0.008186885722933855; eval loss = 0.009258363395929337\n",
      "Epoch 88: train loss = 0.008267114156002836; eval loss = 0.008880949586129455\n",
      "Epoch 89: train loss = 0.007984105840717492; eval loss = 0.009321124946225934\n",
      "Epoch 90: train loss = 0.008319105756910224; eval loss = 0.009157211095817498\n",
      "Epoch 91: train loss = 0.007950795016118459; eval loss = 0.008932024240493774\n",
      "Epoch 92: train loss = 0.008307608747784804; eval loss = 0.009224902838468552\n",
      "Epoch 93: train loss = 0.008114852116240147; eval loss = 0.008791935192282075\n",
      "Epoch 94: train loss = 0.008027681478656325; eval loss = 0.009534948352557509\n",
      "Epoch 95: train loss = 0.008262357737560918; eval loss = 0.008974280423804451\n",
      "Epoch 96: train loss = 0.007911785225615017; eval loss = 0.008988671004772186\n",
      "Epoch 97: train loss = 0.008316750603174805; eval loss = 0.009200331859234998\n",
      "Epoch 98: train loss = 0.00802518594379824; eval loss = 0.008766790643445592\n",
      "Epoch 99: train loss = 0.007989578071589532; eval loss = 0.009490137905883255\n"
     ]
    }
   ],
   "source": [
    "# Train function v2\n",
    "def train(model, data, args):\n",
    "    n_time = data.pressure.size(1)\n",
    "    edge_index = data.edge_index.to(args.device)\n",
    "    mesh_features = data.node_attr.to(args.device)\n",
    "    F_bc = data.flowrate_bc.to(args.device)\n",
    "    weight = data.node_weight.to(args.device)\n",
    "\n",
    "    F_initial = torch.cat([\n",
    "        data.pressure[:,0].unsqueeze(1), \n",
    "        data.flowrate[:,0].unsqueeze(1)\n",
    "    ], dim=-1).to(args.device) # concat pressure and flowrate\n",
    "\n",
    "    model.n_timesteps = n_time - 1\n",
    "\n",
    "    Fs, F_dots = model(F_initial, mesh_features, edge_index, F_bc)\n",
    "\n",
    "    Fs_hat = torch.cat([\n",
    "        data.pressure.unsqueeze(-1), \n",
    "        data.flowrate.unsqueeze(-1)\n",
    "    ], dim=-1).to(args.device) # concat pressure and flowrate\n",
    "    \n",
    "    F_dots_hat = torch.cat([\n",
    "        data.pressure_dot.unsqueeze(-1), \n",
    "        data.flowrate_dot.unsqueeze(-1)\n",
    "    ], dim=-1).to(args.device) # concat pressure and flowrate\n",
    "\n",
    "    Fs_hat = Fs_hat[:,1:,:]\n",
    "    F_dots_hat = F_dots_hat[:,1:,:]\n",
    "    \n",
    "    loss = (1.-args.train_lambda)*criterion(Fs_hat, Fs, weight) + \\\n",
    "            args.train_lambda*criterion(F_dots_hat, F_dots, weight)\n",
    "\n",
    "    loss.backward()\n",
    "    optimizer.step()\n",
    "    return loss.item()\n",
    "\n",
    "# Eval function\n",
    "def eval(model, data, args):\n",
    "    n_time = data.pressure.size(1)\n",
    "    edge_index = data.edge_index.to(args.device)\n",
    "    mesh_features = data.node_attr.to(args.device)\n",
    "    F_bc = data.flowrate_bc.to(args.device)\n",
    "    weight = data.node_weight.to(args.device)\n",
    "    F_initial = torch.cat([\n",
    "        data.pressure[:,0].unsqueeze(1), \n",
    "        data.flowrate[:,0].unsqueeze(1)\n",
    "    ], dim=-1).to(args.device) # concat pressure and flowrate\n",
    "    model.n_timesteps = n_time - 1\n",
    "\n",
    "    with torch.no_grad():\n",
    "        Fs, F_dots = model(F_initial, mesh_features, edge_index, F_bc)\n",
    "\n",
    "        Fs_hat = torch.cat([\n",
    "            data.pressure.unsqueeze(-1), \n",
    "            data.flowrate.unsqueeze(-1)\n",
    "        ], dim=-1).to(args.device) # concat pressure and flowrate\n",
    "        \n",
    "        F_dots_hat = torch.cat([\n",
    "            data.pressure_dot.unsqueeze(-1), \n",
    "            data.flowrate_dot.unsqueeze(-1)\n",
    "        ], dim=-1).to(args.device)\n",
    "\n",
    "        Fs_hat = Fs_hat[:,1:,:]\n",
    "        F_dots_hat = F_dots_hat[:,1:,:]\n",
    "\n",
    "        loss = (1.-args.train_lambda)*criterion(Fs_hat, Fs, weight) + \\\n",
    "            args.train_lambda*criterion(F_dots_hat, F_dots, weight)\n",
    "\n",
    "    # return loss\n",
    "    return loss.item()\n",
    "\n",
    "# Training\n",
    "total_train_loss = []\n",
    "total_eval_loss = []\n",
    "# batch = enumerate(list(range(0,10)))\n",
    "for epoch in range(args.epoch):\n",
    "    torch.cuda.empty_cache()\n",
    "    train_loss = 0\n",
    "    # for data in train_dataset:\n",
    "    for i in range(train_loader.__len__()):\n",
    "        data = next(iter(train_loader))\n",
    "        train_loss += train(model=model, data=data, args=args)\n",
    "    # train_loss.backward()\n",
    "    # optimizer.step()\n",
    "    # train_loss = train_loss.item()\n",
    "    train_loss /= train_loader.__len__() # len(train_dataset)\n",
    "    total_train_loss.append(train_loss)\n",
    "\n",
    "    eval_loss = 0\n",
    "    # for data in eval_dataset:\n",
    "    for i in range(test_loader.__len__()):\n",
    "        data = next(iter(test_loader))\n",
    "        eval_loss += eval(model=model, data=data, args=args)\n",
    "    # eval_loss = eval_loss.item()\n",
    "    eval_loss /= test_loader.__len__() #len(eval_dataset)\n",
    "    total_eval_loss.append(eval_loss)\n",
    "    \n",
    "    if (epoch > 25):\n",
    "        args.train_lambda = 0.5\n",
    "    print(f'Epoch {epoch}: train loss = {train_loss}; eval loss = {eval_loss}')\n",
    "    if (epoch+1) % 25 == 0:\n",
    "        torch.save(model.state_dict(), f'models/parc_v3_epoch{epoch+1}.pth')"
   ]
  },
  {
   "cell_type": "code",
   "execution_count": 6,
   "metadata": {},
   "outputs": [
    {
     "data": {
      "image/png": "[encoded data removed]",
      "text/plain": [
       "<Figure size 640x480 with 1 Axes>"
      ]
     },
     "metadata": {},
     "output_type": "display_data"
    }
   ],
   "source": [
    "import matplotlib.pyplot as plt\n",
    "plt.plot(total_train_loss)\n",
    "plt.plot(total_eval_loss)\n",
    "plt.show()"
   ]
  },
  {
   "cell_type": "code",
   "execution_count": 7,
   "metadata": {},
   "outputs": [],
   "source": [
    "# Save model\n",
    "torch.save(model.state_dict(), 'models/parc_v3_final.pth')"
   ]
  },
  {
   "attachments": {},
   "cell_type": "markdown",
   "metadata": {},
   "source": [
    "Reconstruct CFD output"
   ]
  },
  {
   "cell_type": "code",
   "execution_count": 22,
   "metadata": {},
   "outputs": [
    {
     "data": {
      "text/plain": [
       "<All keys matched successfully>"
      ]
     },
     "execution_count": 22,
     "metadata": {},
     "output_type": "execute_result"
    }
   ],
   "source": [
    "# Model initializing\n",
    "model = PARC(\n",
    "    n_fields=args.n_fields,\n",
    "    n_timesteps=args.n_timesteps,\n",
    "    n_hiddenfields=args.n_hiddenfields,\n",
    "    n_meshfields=args.n_meshfields,\n",
    "    n_bcfields=args.n_bcfields\n",
    ")\n",
    "model = model.to(args.device)\n",
    "model.load_state_dict(torch.load('models/parc_v3_final.pth'))"
   ]
  },
  {
   "cell_type": "code",
   "execution_count": 23,
   "metadata": {},
   "outputs": [
    {
     "name": "stdout",
     "output_type": "stream",
     "text": [
      "Dataset loaded.\n"
     ]
    },
    {
     "data": {
      "image/png": "[encoded data removed]",
      "text/plain": [
       "<Figure size 640x480 with 1 Axes>"
      ]
     },
     "metadata": {},
     "output_type": "display_data"
    },
    {
     "data": {
      "text/plain": [
       "0.006429949775338173"
      ]
     },
     "execution_count": 23,
     "metadata": {},
     "output_type": "execute_result"
    }
   ],
   "source": [
    "# Plot prediction/ground truth\n",
    "import matplotlib.pyplot as plt\n",
    "\n",
    "def plot_comparison(model, data):\n",
    "    n_time = data.pressure.size(1)\n",
    "    edge_index = data.edge_index.to(args.device)\n",
    "    mesh_features = data.node_attr.to(args.device)\n",
    "    F_bc = data.flowrate_bc.to(args.device)\n",
    "    weight = data.node_weight.to(args.device)\n",
    "    F_initial = torch.cat([\n",
    "        data.pressure[:,0].unsqueeze(1), \n",
    "        data.flowrate[:,0].unsqueeze(1)\n",
    "    ], dim=-1).to(args.device) # concat pressure and flowrate\n",
    "    model.n_timesteps = n_time - 1\n",
    "\n",
    "    with torch.no_grad():\n",
    "        Fs, F_dots = model(F_initial, mesh_features, edge_index, F_bc)\n",
    "\n",
    "        Fs_hat = torch.cat([data.pressure.unsqueeze(-1), data.flowrate.unsqueeze(-1)], dim=-1)\\\n",
    "                    .to(args.device) # concat pressure and flowrate\n",
    "        \n",
    "        # F_dots_hat = cal_derivative(Fs_hat, dim=1, delta_t=args.timesteps)\n",
    "        F_dots_hat = torch.cat([data.pressure_dot.unsqueeze(-1), data.flowrate_dot.unsqueeze(-1)], dim=-1)\\\n",
    "                .to(args.device)\n",
    "\n",
    "        Fs_hat = Fs_hat[:,1:,:]\n",
    "        F_dots_hat = F_dots_hat[:,1:,:]\n",
    "\n",
    "        loss = (1.-args.train_lambda)*criterion(Fs_hat, Fs, weight) + \\\n",
    "            args.train_lambda*criterion(F_dots_hat, F_dots, weight)\n",
    "        \n",
    "        total_loss = loss.item()\n",
    "    # print(Fs.size(), Fs_hat.size())\n",
    "    \n",
    "    \n",
    "\n",
    "    \n",
    "    # plot\n",
    "    i_node = 10\n",
    "    i_field = 1\n",
    "    y_pred = Fs.cpu().numpy()[i_node,:,i_field]\n",
    "    y_true = Fs_hat.cpu().numpy()[i_node,:,i_field]\n",
    "    x = [i * 4.0 /200 for i in range(y_pred.shape[0])]\n",
    "    plt.plot(x, y_pred, c='red', label='PIGNN')\n",
    "    plt.plot(x, y_true, c='blue', linestyle='dashdot', label='ground_truth')\n",
    "    # plt.ylim([-1,1])\n",
    "    plt.legend(loc='upper right')\n",
    "    plt.ylabel('flowrate', fontsize=20)\n",
    "    plt.xlabel('Time', fontsize=20)\n",
    "    plt.show()\n",
    "    \n",
    "    return total_loss\n",
    "\n",
    "dataset = OneDDatasetLoader(\n",
    "    root_dir='/data1/tam/downloaded_datasets_nodeattr_v2',\n",
    "    sub_dir='/validation/'\n",
    ")\n",
    "print('Dataset loaded.')\n",
    "\n",
    "plot_comparison(model, train_dataset[35])"
   ]
  }
 ],
 "metadata": {
  "kernelspec": {
   "display_name": "torch",
   "language": "python",
   "name": "python3"
  },
  "language_info": {
   "codemirror_mode": {
    "name": "ipython",
    "version": 3
   },
   "file_extension": ".py",
   "mimetype": "text/x-python",
   "name": "python",
   "nbconvert_exporter": "python",
   "pygments_lexer": "ipython3",
   "version": "3.9.12"
  }
 },
 "nbformat": 4,
 "nbformat_minor": 2
}

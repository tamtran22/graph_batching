{
 "cells": [
  {
   "cell_type": "code",
   "execution_count": 23,
   "metadata": {},
   "outputs": [],
   "source": [
    "import torch\n",
    "import torch_geometric.nn as nn\n",
    "import torch.nn.functional as F\n",
    "from torch.nn import ModuleList\n",
    "from torch_geometric.nn import GCNConv, GraphUNet, LayerNorm, Linear\n",
    "from typing import Union, Callable\n",
    "from torch_geometric.typing import OptTensor"
   ]
  },
  {
   "cell_type": "code",
   "execution_count": 24,
   "metadata": {},
   "outputs": [],
   "source": [
    "class GCNBlock(torch.nn.Module):\n",
    "    def __init__(\n",
    "        self,\n",
    "        in_channels : int,\n",
    "        out_channels : int,\n",
    "        n_layers : int,\n",
    "        sum_res : bool = True,\n",
    "        act: Union[str, Callable] = F.relu\n",
    "    ) -> None:\n",
    "        super().__init__()\n",
    "        assert n_layers > 1\n",
    "        self.in_channels = in_channels\n",
    "        self.out_channels = out_channels\n",
    "        self.n_layers = n_layers\n",
    "        self.sum_res = sum_res\n",
    "        self.act = act\n",
    "\n",
    "        self.layers = ModuleList()\n",
    "        self.layers.append(\n",
    "            GCNConv(self.in_channels, self.out_channels, dtype=torch.float32)\n",
    "        )\n",
    "        for _ in range(self.n_layers - 1):\n",
    "            self.layers.append(\n",
    "                GCNConv(self.out_channels, self.out_channels, dtype=torch.float32)\n",
    "            )\n",
    "    \n",
    "    def reset_parameters(self):\n",
    "        for i in range(self.n_layers):\n",
    "            self.layers[i].reset_parameters()\n",
    "        \n",
    "    def forward(self, x, edge_index, batch : OptTensor = None):\n",
    "        x_temp = self.layers[0](x, edge_index)\n",
    "        x = x_temp\n",
    "        for i in range(1, self.n_layers):\n",
    "            x = self.layers[i](x, edge_index)\n",
    "            x = self.act(x)\n",
    "        if self.sum_res:\n",
    "            x = x + x_temp\n",
    "        return x"
   ]
  },
  {
   "cell_type": "code",
   "execution_count": 27,
   "metadata": {},
   "outputs": [
    {
     "data": {
      "text/plain": [
       "tensor([[0.4625, 1.4834],\n",
       "        [0.5583, 1.7906],\n",
       "        [0.4625, 1.4834],\n",
       "        [0.4625, 1.4834],\n",
       "        [0.4625, 1.4834]], grad_fn=<AddBackward0>)"
      ]
     },
     "execution_count": 27,
     "metadata": {},
     "output_type": "execute_result"
    }
   ],
   "source": [
    "net = GCNBlock(in_channels=3, out_channels=2, n_layers=3)\n",
    "x = torch.ones(size=(5,3)).float()\n",
    "edge_index = torch.tensor([[0,1,1,2],[1,2,3,4]]).type(torch.LongTensor)\n",
    "batch = torch.tensor([0,0,1,1,1]).type(torch.LongTensor)\n",
    "net(x, edge_index)"
   ]
  }
 ],
 "metadata": {
  "kernelspec": {
   "display_name": "torch",
   "language": "python",
   "name": "torch"
  },
  "language_info": {
   "codemirror_mode": {
    "name": "ipython",
    "version": 3
   },
   "file_extension": ".py",
   "mimetype": "text/x-python",
   "name": "python",
   "nbconvert_exporter": "python",
   "pygments_lexer": "ipython3",
   "version": "3.9.12"
  },
  "orig_nbformat": 4
 },
 "nbformat": 4,
 "nbformat_minor": 2
}
